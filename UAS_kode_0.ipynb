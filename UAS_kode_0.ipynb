{
  "nbformat": 4,
  "nbformat_minor": 0,
  "metadata": {
    "colab": {
      "provenance": []
    },
    "kernelspec": {
      "name": "python3",
      "display_name": "Python 3"
    },
    "language_info": {
      "name": "python"
    }
  },
  "cells": [
    {
      "cell_type": "markdown",
      "source": [
        "Dengan mengunakan list comprehension ,dapatkan faktor pembagi dari suatu bilangan (inputan dari user)"
      ],
      "metadata": {
        "id": "eC2VCmL7OhjX"
      }
    },
    {
      "cell_type": "code",
      "source": [
        "angka=int(input('masukkan angka = '))\n",
        "a=[i for i in range(1,angka+1)if angka%i==0]\n",
        "print(a)"
      ],
      "metadata": {
        "colab": {
          "base_uri": "https://localhost:8080/"
        },
        "id": "7z7HAEh8PAQP",
        "outputId": "5c249c3c-abb2-4ec4-b90b-94c817792e8d"
      },
      "execution_count": 3,
      "outputs": [
        {
          "output_type": "stream",
          "name": "stdout",
          "text": [
            "masukkan angka = 8\n",
            "[1, 2, 4, 8]\n"
          ]
        }
      ]
    }
  ]
}