{
 "cells": [
  {
   "cell_type": "markdown",
   "id": "2d5723eb",
   "metadata": {},
   "source": [
    "# catatan dan latihan UAS"
   ]
  },
  {
   "cell_type": "code",
   "execution_count": 4,
   "id": "af9fcfb3",
   "metadata": {},
   "outputs": [
    {
     "name": "stdout",
     "output_type": "stream",
     "text": [
      "masukkan bilangan : 4\n",
      "1,2,4,"
     ]
    }
   ],
   "source": [
    "a = int(input('masukkan bilangan : '))\n",
    "for i in range (1,a+1) :\n",
    "    if a % i == 0 :\n",
    "        print (i,end=',')"
   ]
  },
  {
   "cell_type": "code",
   "execution_count": 1,
   "id": "6c8c60f9",
   "metadata": {},
   "outputs": [
    {
     "name": "stdout",
     "output_type": "stream",
     "text": [
      "1 2 3\n",
      "4 5 6\n"
     ]
    }
   ],
   "source": [
    "mat= [[1,2,3],[4,5,6]]\n",
    "for i in mat:\n",
    "    print(*i)"
   ]
  },
  {
   "cell_type": "code",
   "execution_count": 2,
   "id": "16b0e3d7",
   "metadata": {
    "scrolled": true
   },
   "outputs": [
    {
     "name": "stdout",
     "output_type": "stream",
     "text": [
      "[[1, 4], [2, 5], [3, 6]]\n",
      "1   2   3   \n",
      "4   5   6   \n",
      "\n",
      "\n",
      "\n",
      "1   4   \n",
      "2   5   \n",
      "3   6   \n",
      "\n"
     ]
    }
   ],
   "source": [
    "mat= [[1,2,3],[4,5,6]]\n",
    "\n",
    "def dispMat(mat) :\n",
    "    i=0\n",
    "    stm =\"\"\n",
    "    for baris in mat :\n",
    "        for kolom in baris :\n",
    "            stm+=str(kolom)+\"   \"\n",
    "            \n",
    "            if i == len(baris)-1 :\n",
    "                stm+=\"\\n\"\n",
    "                i=-1\n",
    "            i+=1\n",
    "            \n",
    "    return stm\n",
    "def reveMat(mt) :\n",
    "    pjgBaris = len(mt)\n",
    "    pjgKolom = len(mt[0])\n",
    "    \n",
    "    has = []\n",
    "    for i in range(pjgKolom) :\n",
    "        tmpHas = []\n",
    "        for j in range(pjgBaris) :\n",
    "            tmpHas.append(0)\n",
    "        has.append(tmpHas)\n",
    "    \n",
    "    for i in range(len(has)) :\n",
    "        for j in range(len(has[0])) :\n",
    "            has[i][j] = mat[j][i]\n",
    "    return has\n",
    "\n",
    "print(reveMat(mat))\n",
    "    \n",
    "print(dispMat(mat))\n",
    "print(\"\\n\")\n",
    "print(dispMat(reveMat(mat)))  "
   ]
  },
  {
   "cell_type": "code",
   "execution_count": 2,
   "id": "6c31ce1b",
   "metadata": {},
   "outputs": [
    {
     "name": "stdout",
     "output_type": "stream",
     "text": [
      "[[1, 4], [2, 5], [3, 6]]\n"
     ]
    }
   ],
   "source": [
    "mat= [[1,2,3],[4,5,6]]\n",
    "def reveMat(mt) :\n",
    "    pjgBaris = len(mt)\n",
    "    pjgKolom = len(mt[0])\n",
    "    \n",
    "    has = []\n",
    "    for i in range(pjgKolom) :\n",
    "        tmpHas = []\n",
    "        for j in range(pjgBaris) :\n",
    "            tmpHas.append(0)\n",
    "        has.append(tmpHas)\n",
    "    \n",
    "    for i in range(len(has)) :\n",
    "        for j in range(len(has[0])) :\n",
    "            has[i][j] = mat[j][i]\n",
    "    return has\n",
    "print(reveMat(mat))"
   ]
  },
  {
   "cell_type": "code",
   "execution_count": null,
   "id": "68532322",
   "metadata": {},
   "outputs": [],
   "source": []
  },
  {
   "cell_type": "code",
   "execution_count": 5,
   "id": "499131b2",
   "metadata": {},
   "outputs": [
    {
     "name": "stdout",
     "output_type": "stream",
     "text": [
      "[[1, 4], [2, 5], [3, 6]]\n"
     ]
    }
   ],
   "source": [
    "mat= [[1,2,3],[4,5,6]]\n",
    "def balik(mat):\n",
    "    pjgBaris=len(mat)\n",
    "    pjgKolom=len(mat[0])\n",
    "    has=[]\n",
    "    for i in range(pjgKolom):\n",
    "        tmphas=[]\n",
    "        for j in range(pjgBaris):\n",
    "            tmphas.append(0)\n",
    "        has.append(tmphas)\n",
    "    for i in range(len(has)):\n",
    "        for j in range(len(has[0])):\n",
    "            has[i][j]=mat[j][i]\n",
    "    return has\n",
    "print(balik(mat))"
   ]
  },
  {
   "cell_type": "code",
   "execution_count": 6,
   "id": "ece0c1b5",
   "metadata": {},
   "outputs": [
    {
     "name": "stdout",
     "output_type": "stream",
     "text": [
      "[[1, 4], [2, 5], [3, 6]]\n"
     ]
    }
   ],
   "source": [
    "mat=[[1,2,3],[4,5,6]]\n",
    "def membalik(mat):\n",
    "    pjgBaris=len(mat)\n",
    "    pjgKolom=len(mat[0])\n",
    "    has=[]\n",
    "    for i in range(pjgKolom):\n",
    "        tmpHas=[]\n",
    "        for j in range(pjgBaris):\n",
    "            tmpHas.append(0)\n",
    "        has.append(tmpHas)\n",
    "    for i in range(len(has)):\n",
    "        for j in range(len(has[0])):\n",
    "            has[i][j]=mat[j][i]\n",
    "    return has\n",
    "print(membalik(mat))"
   ]
  },
  {
   "cell_type": "code",
   "execution_count": null,
   "id": "a711d563",
   "metadata": {},
   "outputs": [],
   "source": [
    "# Modul 3 seleksi dan iterasi\n",
    "####################################################\n",
    "pertama=int(input('masukkan bilangan pertama ='))\n",
    "kedua=int(input('masukkan bilangan kedua ='))\n",
    "temp=1\n",
    "beda=1\n",
    "for i in range(1,pertama+1):\n",
    "    if pertama%i==0 and kedua%i==0:\n",
    "        print('pembagi yang sama-',temp,'=',i)\n",
    "        temp=temp+1\n",
    "print('pembagi yang sama terbesar adalah',i)\n",
    "####################################################\n",
    "temp=100000\n",
    "a=int(input('masukkan angka='))\n",
    "for i in range(1,7):\n",
    "    g=a//temp\n",
    "    a=a-g*temp\n",
    "    print(i,':',g,'x',temp)\n",
    "    temp=temp//10   \n",
    "####################################################\n",
    "\n",
    "uang=int(input('masukkan uang='))\n",
    "banyakuang=(100000,50000,20000,10000,5000,2000,1000,500,200,100,10,1)\n",
    "sisa=uang\n",
    "for i in banyakuang:\n",
    "    if sisa<i:\n",
    "        continue\n",
    "    banyakuang=int(sisa/i)\n",
    "    sisa=sisa-(banyakuang*i)\n",
    "    print(i,banyakuang)\n",
    "    \n",
    "#################################################\n",
    " "
   ]
  },
  {
   "cell_type": "code",
   "execution_count": null,
   "id": "c14aa16c",
   "metadata": {},
   "outputs": [],
   "source": [
    "#modul 4 string dan list\n",
    "#################################################\n",
    "inp=input('masukkan kalimat=')\n",
    "huruf=input('masukkan huruf yang dicari=')\n",
    "besar=huruf.upper()\n",
    "kecil=huruf.lower()\n",
    "temp=1 \n",
    "for i in range(len(inp)):\n",
    "    if besar==inp[i] or kecil==inp[i]:\n",
    "        print('huruf',kecil,'atau huruf',besar,'ke-',temp,'offset-',i)\n",
    "        temp+=1\n",
    "#################################################\n",
    "#Konversi Bilangan Buatlah code menu untuk konversi bilangan dari Desimal ke Biner dan sebaliknya\n",
    "stop=False\n",
    "while not(stop):\n",
    "    print('Menu')\n",
    "    print('Tekan 1 untuk konversi desimal ke Biner')\n",
    "    print('Teksn 2 untuk konversi Biner ke desimal')\n",
    "    inp=int(input('masukkan pilihan anda ='))\n",
    "    if inp==1:\n",
    "        bilangan=int(input(\"masukkan Desimal= \"))\n",
    "        hasildiv=bilangan\n",
    "        strbinner=\" \"\n",
    "        while hasildiv != 0:\n",
    "            hasilmod=hasildiv%2\n",
    "            hasildiv=hasildiv//2\n",
    "            strbinner=str(hasilmod)+strbinner\n",
    "        print('Bilangan Biner =',strbinner)\n",
    "        masuk=input('ingin mengulang operasi kembali(y/t)?')\n",
    "        print(40*'=')\n",
    "        if masuk=='y':\n",
    "            stop=False\n",
    "        else:\n",
    "            stop=True\n",
    "    if inp==2:\n",
    "        biner=input('masukkan biner=')\n",
    "        b=0\n",
    "        pangkat=0\n",
    "        for i in range(len(biner)-1,-1,-1):\n",
    "            b=b+int(biner[i])*2**pangkat\n",
    "            pangkat+=1\n",
    "        print('Bilangan Desimal=',b)\n",
    "        masuk=input('ingin mengulang operasi kembali(y/t)?')\n",
    "        print(40*'=')\n",
    "        if masuk=='y':\n",
    "            stop=False\n",
    "        else:\n",
    "            stop=True\n",
    "###################################################\n",
    "x=[10,10,5,10,10]\n",
    "hasil=0\n",
    "print(\"x =\",x)\n",
    "for i in range(len(x)):\n",
    "    hasil=hasil+x[i]\n",
    "temp1=1/len(x)*hasil\n",
    "print(\"xbar =\",temp1)\n",
    "hasil1=0\n",
    "for i in range(len(x)):\n",
    "    hasil1=hasil1+x[i]-temp1\n",
    "print(\"fx =\",hasil1)"
   ]
  },
  {
   "cell_type": "code",
   "execution_count": null,
   "id": "e01302d0",
   "metadata": {},
   "outputs": [],
   "source": [
    "#Modul 5 List dan Tuple\n",
    "\n",
    "inp=int(input('''-in-\n",
    "'''))\n",
    "inp2=int(input())\n",
    "list1=[]\n",
    "list2=[]\n",
    "list3=[]\n",
    "print('-out-')\n",
    "for i in range(1,inp+1):\n",
    "    if inp%i==0:\n",
    "        list1.append(i)\n",
    "print(list1)\n",
    "for kedua in range(1,inp2+1):\n",
    "    if inp2%kedua==0:\n",
    "        list2.append(kedua)\n",
    "print(list2)\n",
    "if inp>inp2:\n",
    "    hasil=inp\n",
    "else:\n",
    "    hasil=inp2\n",
    "for ia in range(1,hasil):\n",
    "    if inp%ia==0 and inp2%ia==0:\n",
    "        list3.append(ia)\n",
    "print(list3)\n",
    "\n",
    "##################################################\n",
    "inputan=int(input('''-in-\n",
    "'''))\n",
    "listke_1=[]\n",
    "listke_2=[]\n",
    "listke_3=[]\n",
    "for i in range(inputan):\n",
    "    temp=int(input('  '))\n",
    "    listke_1.append(temp)\n",
    "inputan2=int(input())\n",
    "for i in range(inputan2):\n",
    "    temp=int(input('  '))\n",
    "    listke_2.append(temp)\n",
    "\n",
    "if len(listke_1)>len(listke_2):\n",
    "    terbesar=listke_1\n",
    "    terkecil=listke_2\n",
    "else:\n",
    "    terbesar=listke_2\n",
    "    terkecil=listke_1\n",
    "for i in range(len(terbesar)):\n",
    "    if i>=len(terkecil):\n",
    "        listke_3.append(terbesar[i])\n",
    "    else:\n",
    "        hasil=terbesar[i]+terkecil[i]\n",
    "        listke_3.append(hasil)\n",
    "print('-out-')\n",
    "print(listke_1)\n",
    "print(listke_2)\n",
    "print(listke_3)\n",
    "###################################################\n",
    "nama_hari=('minggu','senin','selasa','rabu','kamis','jumat','sabtu')\n",
    "informasi=input('masukkan informasi,hari pertama bulan ini jatuh pada hari :')\n",
    "tanggal=int(input('masukkan tanggal yang ingin diketahui harinya:'))\n",
    "\n",
    "if tanggal%len(nama_hari)==0:\n",
    "    modulus=len(nama_hari)+nama_hari.index(informasi)\n",
    "else:\n",
    "    modulus=tanggal%len(nama_hari)+nama_hari.index(informasi)\n",
    "for i in range(nama_hari.index(informasi),modulus):\n",
    "    if i>=len(nama_hari):\n",
    "        hasil1=i-len(nama_hari)\n",
    "        hasil2=nama_hari[hasil1]\n",
    "    else:\n",
    "        hasil2=nama_hari[i]\n",
    "print(\"tanggal \",tanggal,'adalah hari',hasil2)\n"
   ]
  },
  {
   "cell_type": "code",
   "execution_count": 2,
   "id": "55e3616c",
   "metadata": {},
   "outputs": [
    {
     "name": "stdout",
     "output_type": "stream",
     "text": [
      "[[1, 5, 8, 3, 11, 2], [5, 2, 9, 2, 9, 0], [10, 1, 3, 14, 0, 7]]\n",
      "[10, 5, 9, 14, 11, 7]\n"
     ]
    }
   ],
   "source": [
    "#Jenis=baris\n",
    "def maxList2D(data,ketentuan):\n",
    "    if ketentuan=='kolom':\n",
    "        temp1=[]\n",
    "        for i in range(len(data)):\n",
    "            maks=0\n",
    "            for j in range(len(data[0])):\n",
    "                if data[i][j] > maks :\n",
    "                    maks=data[i][j]\n",
    "            temp1.append(maks)\n",
    "        return temp1\n",
    "    elif ketentuan == \"baris\":\n",
    "        temp2=[]\n",
    "        for i in range(len(data[0])):\n",
    "            maks=0\n",
    "            for j in range(len(data)):\n",
    "                if data[j][i]>maks:\n",
    "                    maks=data[j][i]\n",
    "            temp2.append(maks)\n",
    "        return temp2\n",
    "#Jenis=baris\n",
    "data=[[1,5,8,3,11,2],[5,2,9,2,9,0],[10,1,3,14,0,7]]\n",
    "maksList=maxList2D(data,'baris')\n",
    "print(data)\n",
    "print(maksList)"
   ]
  },
  {
   "cell_type": "code",
   "execution_count": 1,
   "id": "cc0e3369",
   "metadata": {},
   "outputs": [
    {
     "name": "stdout",
     "output_type": "stream",
     "text": [
      "llist [0,0] : 2\n",
      "llist [0,1] : 3\n",
      "llist [0,2] : 4\n",
      "llist [1,0] : 5\n",
      "llist [1,1] : 2\n",
      "llist [1,2] : 3\n",
      "[[2, 3, 4], [5, 2, 3]]\n"
     ]
    }
   ],
   "source": [
    "def createList2D(lis1,lis2):\n",
    "    datalist2D=[]\n",
    "    for i in range(lis1):\n",
    "        temp=[]\n",
    "        for j in range(lis2):\n",
    "            inp=int(input(f'list [{i},{j}] : '))\n",
    "            temp.append(inp)\n",
    "        datalist2D.append(temp)\n",
    "    return datalist2D\n",
    "  \n",
    "mat1=createList2D(2,3)\n",
    "print(mat1)"
   ]
  },
  {
   "cell_type": "markdown",
   "id": "382b1895",
   "metadata": {},
   "source": [
    "# list biasa dan teman2 nya\n"
   ]
  },
  {
   "cell_type": "code",
   "execution_count": null,
   "id": "0e256f7f",
   "metadata": {},
   "outputs": [],
   "source": [
    "#menentukan pembagi yang terbsar\n",
    "pertama=int(input('masukkan bilangan pertama ='))\n",
    "kedua=int(input('masukkan bilangan kedua ='))\n",
    "temp=1\n",
    "beda=1\n",
    "for i in range(1,pertama+1):\n",
    "    if pertama%i==0 and kedua%i==0:\n",
    "        print('pembagi yang sama-',temp,'=',i)\n",
    "        temp=temp+1\n",
    "print('pembagi yang sama terbesar adalah',i) "
   ]
  },
  {
   "cell_type": "code",
   "execution_count": null,
   "id": "bded9d53",
   "metadata": {},
   "outputs": [],
   "source": [
    "#rata-rata\n",
    "\n",
    "n=[90,56,34,78,86,90,87,88,76,65,86,57,89,67,80]\n",
    "b=0\n",
    "for i in range(len(n)):\n",
    "    b=b+n[i]\n",
    "    c=b/len(n)\n",
    "print('jumlah=',b,'rata-rata=',c)\n",
    "\n",
    "#2\n",
    "n=[90,56,34,78,86,90,87,88,76,65,86,57,89,67,80,100]\n",
    "temp=0\n",
    "for i in range(len(n)):\n",
    "    if n[i]>temp:\n",
    "        temp=n[i]\n",
    "print(temp)\n",
    "\n",
    "#mencari nilai minimal\n",
    "a=[90,56,34,78,86,90,87,88,76,65,86,57,89,67,80,100]\n",
    "minim=a[0]\n",
    "for i in range(len(a)):\n",
    "    if a[i]<minim:\n",
    "        minim=a[i]\n",
    "print(minim)"
   ]
  },
  {
   "cell_type": "code",
   "execution_count": 1,
   "id": "ba93eec6",
   "metadata": {},
   "outputs": [
    {
     "name": "stdout",
     "output_type": "stream",
     "text": [
      " 90,78,86,90,87,88,76,86,89,80,\n",
      "850\n"
     ]
    }
   ],
   "source": [
    "#mencari nilai yang lebih dari batas\n",
    "n=[90,56,34,78,86,90,87,88,76,65,86,57,89,67,80,]\n",
    "batas=70\n",
    "hasil=' '\n",
    "hasil2=0\n",
    "for i in range(len(n)):\n",
    "    if n[i]>batas:\n",
    "        hasil=hasil+str(n[i])+','\n",
    "        hasil2=hasil2+int(n[i])\n",
    "print(hasil)\n",
    "print(hasil2)"
   ]
  },
  {
   "cell_type": "code",
   "execution_count": 3,
   "id": "dc054994",
   "metadata": {},
   "outputs": [
    {
     "name": "stdout",
     "output_type": "stream",
     "text": [
      "masukkan nama buah yang dicari=apel\n",
      "berada di offset ke- 2\n",
      "berada di offset ke- 3\n",
      "jumlah buah itu sebanyak= 2\n"
     ]
    }
   ],
   "source": [
    "buah=['alpukat','mangga','apel',\"apel\",'pisang','melon','manggis','semangka',]\n",
    "cari=input('masukkan nama buah yang dicari=')\n",
    "temp=0\n",
    "for i in range(len(buah)):\n",
    "    if cari==buah[i]:\n",
    "        print('berada di offset ke-',i)\n",
    "        temp+=1\n",
    "print('jumlah buah itu sebanyak=',temp)"
   ]
  },
  {
   "cell_type": "code",
   "execution_count": 1,
   "id": "d96289af",
   "metadata": {},
   "outputs": [
    {
     "name": "stdout",
     "output_type": "stream",
     "text": [
      "masukkan banyak list=4\n",
      "angka ke-5\n",
      "angka ke-6\n",
      "angka ke-3\n",
      "angka ke-2\n",
      "masukkan banyak list=5\n",
      "angka ke-3\n",
      "angka ke-4\n",
      "angka ke-5\n",
      "angka ke-6\n",
      "angka ke-7\n",
      "[5, 6, 3, 2]\n",
      "[3, 4, 5, 6, 7]\n",
      "[8, 10, 8, 8, 7]\n"
     ]
    }
   ],
   "source": [
    "# pertambahan list dgn len tidak sama\n",
    "list1=[]\n",
    "list2=[]\n",
    "list3=[]\n",
    "data=int(input('masukkan banyak list='))\n",
    "for i in range(data):\n",
    "    temp=int(input('angka ke-'))\n",
    "    list1.append(temp)\n",
    "data1=int(input('masukkan banyak list='))\n",
    "for i in range(data1):\n",
    "    temp=int(input('angka ke-'))\n",
    "    list2.append(temp)\n",
    "    \n",
    "    \n",
    "if len(list1)>len(list2):\n",
    "    listmax=list1\n",
    "    listmin=list2\n",
    "else:\n",
    "    listmax=list2\n",
    "    listmin=list1\n",
    "    \n",
    "    \n",
    "for i in range(len(listmax)):\n",
    "    if i>=len(listmin):\n",
    "        list3.append(listmax[i])\n",
    "    else:\n",
    "        hasil=listmax[i]+listmin[i]\n",
    "        list3.append(hasil)\n",
    "print(list1)\n",
    "print(list2)\n",
    "print(list3)"
   ]
  },
  {
   "cell_type": "code",
   "execution_count": null,
   "id": "9e9840a6",
   "metadata": {},
   "outputs": [],
   "source": [
    "#pertambahan list dengan len sama\n",
    "list1=[ ]\n",
    "list2=[ ]\n",
    "list3=[ ]\n",
    "data=int(input('masukkan banyak list='))\n",
    "for i in range(data):\n",
    "    temp=int(input('angka ke-'))\n",
    "    list1.append(temp)\n",
    "data1=int(input('masukkan banyak list='))\n",
    "for i in range(data1):\n",
    "    temp=int(input('angka ke-'))\n",
    "    list2.append(temp)\n",
    "for i in range(data):\n",
    "    hasil=list1[i]+list2[i]\n",
    "    list3.append(hasil)\n",
    "print(list1)\n",
    "print(list2)\n",
    "print(list3)"
   ]
  },
  {
   "cell_type": "code",
   "execution_count": null,
   "id": "fdc648ff",
   "metadata": {},
   "outputs": [],
   "source": []
  },
  {
   "cell_type": "code",
   "execution_count": null,
   "id": "9b2a74a5",
   "metadata": {},
   "outputs": [],
   "source": [
    "stop=False\n",
    "while not(stop):\n",
    "    data=[90,56,34,78,86,90,87,88,75,80,86,57,89,67,80]\n",
    "    pil=int(input('masukkan pilihan menu='))\n",
    "    \n",
    "    if pil==1:\n",
    "        temp=0\n",
    "        for i in range(len(data)):\n",
    "            temp=(data[i])/len(data)\n",
    "        print(temp)\n",
    "    elif pil==2:\n",
    "        a=0\n",
    "        for i in range(len(data)):\n",
    "            if a<data[i]:\n",
    "                a=data[i]\n",
    "        print(a)\n",
    "        \n",
    "    elif pil==3:\n",
    "        inp=int(input('masukkan ambang batas='))\n",
    "        temp=\" \"\n",
    "        for i in range(len(data)):\n",
    "            if inp<=data[i]:\n",
    "                temp+=str(i)+' '\n",
    "        print(\"[\",temp,\"]\")\n",
    "    elif pil==4:\n",
    "        stop=True\n",
    "    else:\n",
    "        stop=False"
   ]
  },
  {
   "cell_type": "code",
   "execution_count": null,
   "id": "5aadca73",
   "metadata": {},
   "outputs": [],
   "source": []
  },
  {
   "cell_type": "markdown",
   "id": "36da6a94",
   "metadata": {},
   "source": [
    "# matrix dan list2D dan pelajaran new"
   ]
  },
  {
   "cell_type": "code",
   "execution_count": 15,
   "id": "5beb21ae",
   "metadata": {
    "scrolled": true
   },
   "outputs": [
    {
     "name": "stdout",
     "output_type": "stream",
     "text": [
      "==> Masukkan baris- 0 kolom- 0 =  3\n",
      "==> Masukkan baris- 0 kolom- 1 =  4\n",
      "==> Masukkan baris- 0 kolom- 2 =  5\n",
      "==> Masukkan baris- 1 kolom- 0 =  6\n",
      "==> Masukkan baris- 1 kolom- 1 =  2\n",
      "==> Masukkan baris- 1 kolom- 2 =  3\n",
      "[3, 4, 5, 6, 2, 3]\n"
     ]
    }
   ],
   "source": [
    "#buat matrix biasa\n",
    "def createMatriks(jmlBaris,jmlKolom) :\n",
    "    matriks = []\n",
    "\n",
    "    for i in range(jmlBaris) :\n",
    "        for j in range(jmlKolom) :\n",
    "            angka = int(input(\"==> Masukkan baris- %d kolom- %d =  \" % (i,j)))\n",
    "            matriks.append(angka)\n",
    "    return matriks\n",
    "\n",
    "\n",
    "print(createMatriks(2,3))"
   ]
  },
  {
   "cell_type": "code",
   "execution_count": 2,
   "id": "b887f70a",
   "metadata": {
    "scrolled": true
   },
   "outputs": [
    {
     "name": "stdout",
     "output_type": "stream",
     "text": [
      "masukkan matrik baris ke- 0 dan kolom ke- 0 = 3\n",
      "masukkan matrik baris ke- 0 dan kolom ke- 1 = 4\n",
      "masukkan matrik baris ke- 0 dan kolom ke- 2 = 5\n",
      "masukkan matrik baris ke- 1 dan kolom ke- 0 = 6\n",
      "masukkan matrik baris ke- 1 dan kolom ke- 1 = 7\n",
      "masukkan matrik baris ke- 1 dan kolom ke- 2 = 4\n",
      "[[3, 4, 5], [6, 7, 4]]\n"
     ]
    }
   ],
   "source": [
    "def huat(baris,kolom):\n",
    "    temp=[]\n",
    "    for i in range(baris):\n",
    "        temp1=[]\n",
    "        for j in range(kolom):\n",
    "            temp1.append(int(input(f'masukkan matrik baris ke- {i} dan kolom ke- {j} = ')))\n",
    "        temp.append(temp1)\n",
    "    return temp\n",
    "print(huat(2,3))"
   ]
  },
  {
   "cell_type": "code",
   "execution_count": 16,
   "id": "4020c9ad",
   "metadata": {},
   "outputs": [
    {
     "name": "stdout",
     "output_type": "stream",
     "text": [
      "| 2  4  5  |\n",
      "| 6  4  1  |\n"
     ]
    }
   ],
   "source": [
    "matrix = [[2,4,5],[6,4,1]]\n",
    "\n",
    "for i in range(len(matrix)) :\n",
    "    tmpS = \"\"\n",
    "    for j in range(len(matrix[i])) :\n",
    "\n",
    "        #if j == 0 :\n",
    "         #   tmpS = tmpS+\"| \"\n",
    "\n",
    "        tmpS = tmpS+str(matrix[i][j])+\"  \"\n",
    "            \n",
    "       # if j == len(matrix[i])-1 :\n",
    "        #    tmpS = tmpS+\"| \\n\"\n",
    "\n",
    "    print(\"| \"+tmpS+\"|\")"
   ]
  },
  {
   "cell_type": "code",
   "execution_count": 6,
   "id": "8943cab6",
   "metadata": {},
   "outputs": [
    {
     "name": "stdout",
     "output_type": "stream",
     "text": [
      "2 4 5 \n",
      "6 4 1 \n"
     ]
    }
   ],
   "source": [
    "a=[[2,4,5],[6,4,1]]\n",
    "def tamp(a):\n",
    "    for i in range(len(a)):\n",
    "        st=''\n",
    "        for j in range(len(a[i])):\n",
    "            st+=str(a[i][j])+' '\n",
    "        print(st)\n",
    "tamp(a)"
   ]
  },
  {
   "cell_type": "code",
   "execution_count": null,
   "id": "f82af5d4",
   "metadata": {},
   "outputs": [],
   "source": [
    "#buat matrix 2D\n",
    "def creatematriks2D(a,b): \n",
    "    baris=[] \n",
    "    for i in range(a): \n",
    "        kolom=[] \n",
    "        for k in range(b): \n",
    "            x='masukkan baris ke-'+str(i)+'kolom ke'+str(k)+'=' \n",
    "            user=int(input(x)) \n",
    "            kolom.append(user) \n",
    "        baris.append(kolom) \n",
    "    \n",
    "    return baris\n",
    "print(creatematriks2D(2,3))"
   ]
  },
  {
   "cell_type": "code",
   "execution_count": 9,
   "id": "46482967",
   "metadata": {},
   "outputs": [
    {
     "name": "stdout",
     "output_type": "stream",
     "text": [
      "masukan baris ke- 0 dan kolom ke- 0 yaitu =2\n",
      "masukan baris ke- 0 dan kolom ke- 1 yaitu =3\n",
      "masukan baris ke- 1 dan kolom ke- 0 yaitu =4\n",
      "masukan baris ke- 1 dan kolom ke- 1 yaitu =2\n",
      "[[2, 3], [4, 2]]\n"
     ]
    }
   ],
   "source": [
    "def buatlis(baris,kolom):\n",
    "    baris1=[]\n",
    "    for i in range(baris):\n",
    "        kolom1=[]\n",
    "        for k in range(kolom):\n",
    "            kolom1.append(int(input(f'masukan baris ke- {i} dan kolom ke- {k} yaitu =')))\n",
    "        baris1.append(kolom1)\n",
    "    return baris1\n",
    "print(buatlis(2,2))"
   ]
  },
  {
   "cell_type": "code",
   "execution_count": 2,
   "id": "ce586e81",
   "metadata": {},
   "outputs": [
    {
     "name": "stdout",
     "output_type": "stream",
     "text": [
      "1\n",
      "2\n",
      "3\n",
      "4\n",
      "5\n"
     ]
    }
   ],
   "source": [
    "def showMatrix(matrix) :\n",
    "    for i in range(len(matrix)) :\n",
    "        print(str(matrix[i]).replace(\",\",\" \"))\n",
    "matrix=[1,2,3,4,5]\n",
    "showMatrix(matrix)"
   ]
  },
  {
   "cell_type": "code",
   "execution_count": null,
   "id": "fcf2bcaa",
   "metadata": {},
   "outputs": [],
   "source": [
    "def showMatrix2(matrix) :\n",
    "    tmpS = \"\"\n",
    "    for i in range(len(matrix)) :\n",
    "        for j in range(len(matrix[i])) :\n",
    "            if j == 0 :\n",
    "                tmpS = tmpS+\"| \"\n",
    "\n",
    "            tmpS = tmpS+str(matrix[i][j])+\"  \"\n",
    "            \n",
    "            if j == len(matrix[i])-1 :\n",
    "                tmpS = tmpS+\"| \\n\"\n",
    "\n",
    "    return tmpS\n"
   ]
  },
  {
   "cell_type": "code",
   "execution_count": 12,
   "id": "5408cd6f",
   "metadata": {},
   "outputs": [],
   "source": [
    "def tampil(a):\n",
    "    st=''\n",
    "    for i in range(len(a)):\n",
    "        for j in range(len(a[0])):\n",
    "            \n",
    "            if j==0:\n",
    "                st+=\"|\"\n",
    "            st+=str(a[i][j])+' '\n",
    "            if j==len(a[0])-1:\n",
    "                st+='|\\n'\n",
    "    return st"
   ]
  },
  {
   "cell_type": "code",
   "execution_count": 13,
   "id": "87560370",
   "metadata": {
    "scrolled": true
   },
   "outputs": [
    {
     "name": "stdout",
     "output_type": "stream",
     "text": [
      "|2 4 5 |\n",
      "|3 4 5 |\n",
      "\n"
     ]
    }
   ],
   "source": [
    "a=[2,4,5],[3,4,5]\n",
    "print(tampil(a))"
   ]
  },
  {
   "cell_type": "code",
   "execution_count": 15,
   "id": "9685b868",
   "metadata": {},
   "outputs": [
    {
     "name": "stdout",
     "output_type": "stream",
     "text": [
      "2  4  5  \n",
      "3  4  5  \n"
     ]
    }
   ],
   "source": [
    "def showMatrix2_1(matrix) :\n",
    "   \n",
    "    for i in range(len(matrix)) :\n",
    "        tmpS = \"\"\n",
    "        for j in range(len(matrix[i])) :\n",
    "            tmpS = tmpS+str(matrix[i][j])+\"  \"\n",
    "        print(tmpS)\n",
    "(showMatrix2_1(a))"
   ]
  },
  {
   "cell_type": "code",
   "execution_count": 5,
   "id": "0a422981",
   "metadata": {},
   "outputs": [
    {
     "name": "stdout",
     "output_type": "stream",
     "text": [
      "masukkan baris ke-0kolom ke0=3\n",
      "masukkan baris ke-0kolom ke1=4\n",
      "masukkan baris ke-0kolom ke2=3\n",
      "masukkan baris ke-1kolom ke0=4\n",
      "masukkan baris ke-1kolom ke1=5\n",
      "masukkan baris ke-1kolom ke2=3\n",
      "\n",
      "\n",
      " --- Matriks 2 x 3 ---- \n",
      "\n",
      "\n",
      "| 3  4  3  | \n",
      "| 4  5  3  | \n",
      "\n",
      "3  4  3  \n",
      "4  5  3  \n"
     ]
    }
   ],
   "source": [
    "# versi Utuh\n",
    "def creatematriks2D(a,b): \n",
    "    baris=[] \n",
    "    for i in range(a): \n",
    "        kolom=[] \n",
    "        for k in range(b): \n",
    "            x='masukkan baris ke-'+str(i)+'kolom ke'+str(k)+'=' \n",
    "            user=int(input(x)) \n",
    "            kolom.append(user) \n",
    "        baris.append(kolom) \n",
    "    \n",
    "    return baris \n",
    "\n",
    "def showMatrix(matrix) :\n",
    "    for i in range(len(matrix)) :\n",
    "        print(str(matrix[i]).replace(\",\",\" \"))\n",
    "\n",
    "\n",
    "\n",
    "def showMatrix2(matrix) :\n",
    "    tmpS = \"\"\n",
    "\n",
    "    for i in range(len(matrix)) :\n",
    "        for j in range(len(matrix[i])) :\n",
    "\n",
    "            if j == 0 :\n",
    "                tmpS = tmpS+\"| \"\n",
    "\n",
    "            tmpS = tmpS+str(matrix[i][j])+\"  \"\n",
    "            \n",
    "            if j == len(matrix[i])-1 :\n",
    "                tmpS = tmpS+\"| \\n\"\n",
    "\n",
    "    return tmpS\n",
    "\n",
    "\n",
    "def showMatrix2_1(matrix) :\n",
    "   \n",
    "    for i in range(len(matrix)) :\n",
    "        tmpS = \"\"\n",
    "        for j in range(len(matrix[i])) :\n",
    "            tmpS = tmpS+str(matrix[i][j])+\"  \"\n",
    "        print(tmpS)        \n",
    "    \n",
    "\n",
    "\n",
    "matrix = creatematriks2D(2,3) \n",
    "print(\"\\n\\n --- Matriks %d x %d ---- \\n\\n\"  % (len(matrix),len(matrix[0])) )\n",
    "#showMatrix(matrix)\n",
    "\n",
    "print(showMatrix2(matrix))\n",
    "showMatrix2_1(matrix)"
   ]
  },
  {
   "cell_type": "code",
   "execution_count": 15,
   "id": "d1b5847f",
   "metadata": {},
   "outputs": [
    {
     "name": "stdout",
     "output_type": "stream",
     "text": [
      "[[0.13333333333333333, -0.16666666666666666], [-0.06666666666666667, 0.3333333333333333]]\n"
     ]
    }
   ],
   "source": [
    "def createMat2(mat):\n",
    "    if len(mat)==2 and len(mat[0])==2:\n",
    "        a=mat[0][0]\n",
    "        b=mat[0][1]\n",
    "        c=mat[1][0]\n",
    "        d=mat[1][1]\n",
    "        penyebut=1/(a*d-b*c)\n",
    "        tempMat=[[d*penyebut,(-1*b)*penyebut],[(-1*c)*penyebut,a*penyebut]]\n",
    "        return tempMat\n",
    "    else:\n",
    "        return \"ukuran tidak sesuai\"\n",
    "list1=[[10,5],[2,4]]\n",
    "list2=createMat2(list1)\n",
    "print(list2)"
   ]
  },
  {
   "cell_type": "code",
   "execution_count": 17,
   "id": "1be711a4",
   "metadata": {},
   "outputs": [
    {
     "name": "stdout",
     "output_type": "stream",
     "text": [
      "[[2, 4], [6, 8]]\n"
     ]
    }
   ],
   "source": [
    "#skalar juga\n",
    "def perkalian(data,angka):\n",
    "    list=[]\n",
    "    for i in range(len(data)):\n",
    "        list1=[]\n",
    "        for j in range(len(data[0])):\n",
    "            total=angka*data[i][j]\n",
    "            list1.append(total)\n",
    "        list.append(list1)\n",
    "    return list\n",
    "a=[[1,2],[3,4]]\n",
    "angka=2\n",
    "print(perkalian(a,angka))"
   ]
  },
  {
   "cell_type": "code",
   "execution_count": 20,
   "id": "f42d3e21",
   "metadata": {},
   "outputs": [
    {
     "name": "stdout",
     "output_type": "stream",
     "text": [
      "[[0, 0, 0, 3, 0], [0, 1, 0, 2, 0], [0, 6, 0, 0, 0]]\n"
     ]
    }
   ],
   "source": [
    "def addMatrix2D(mat1,mat2):\n",
    "    if len (mat1)==len(mat2) and len(mat1[0])==len(mat2[0]):\n",
    "        baris=[]\n",
    "        for i in range(len(mat1)):\n",
    "            kolom=[]\n",
    "            for j in range (len((mat1[0]))):\n",
    "                kolom.append(mat1[i][j]+mat2[i][j])\n",
    "            baris.append(kolom)\n",
    "        return baris\n",
    "    else:\n",
    "        return \"ukuran tidak sama\"\n",
    "data1=[[0,0,0,3,0],[0,0,0,2,0],[0,1,0,0,0]]\n",
    "data2=[[0,0,0,0,0],[0,1,0,0,0],[0,5,0,0,0]]\n",
    "data3=addMatrix2D(data1,data2)\n",
    "print(data3)"
   ]
  },
  {
   "cell_type": "code",
   "execution_count": 1,
   "id": "b2596863",
   "metadata": {
    "scrolled": true
   },
   "outputs": [
    {
     "name": "stdout",
     "output_type": "stream",
     "text": [
      "[[6, 12, 5], [12, 24, 10]]\n"
     ]
    }
   ],
   "source": [
    "def perkalian_matrix(matrix1,matrix2):\n",
    "    baris=len(matrix1[0])==len(matrix2)\n",
    "    if baris:\n",
    "        temp=[]\n",
    "        for a in range(len(matrix1)):\n",
    "            temp1=[]\n",
    "            for b in range(len(matrix2[0])):\n",
    "                total=0\n",
    "                for c in range(len(matrix1)):\n",
    "                    total+=matrix1[a][c]*matrix2[c][b]\n",
    "                temp1.append(total)\n",
    "            temp.append(temp1)\n",
    "        return temp\n",
    "    else:\n",
    "        return 'range tidak sama'\n",
    "\n",
    "\n",
    "a=[[1,2],[2,4]]\n",
    "b=[[2,2,3],[2,5,1]] \n",
    "print(perkalian_matrix(a,b))"
   ]
  },
  {
   "cell_type": "code",
   "execution_count": 48,
   "id": "bee692cf",
   "metadata": {},
   "outputs": [
    {
     "name": "stdout",
     "output_type": "stream",
     "text": [
      "[0,0] [0,1] \n",
      "\n",
      "[1,0] [1,1] \n",
      "\n"
     ]
    }
   ],
   "source": [
    "#matrix dari index\n",
    "\n",
    "def matr(baris,kolom) :\n",
    "    for i in range(baris) :\n",
    "        for j in range(kolom) :\n",
    "            print(f\"[{i},{j}] \",end=\"\" )\n",
    "            if j == kolom-1 :\n",
    "                print(\"\\n\")\n",
    "\n",
    "matr(2,2)"
   ]
  },
  {
   "cell_type": "code",
   "execution_count": 1,
   "id": "84595912",
   "metadata": {
    "scrolled": true
   },
   "outputs": [
    {
     "name": "stdout",
     "output_type": "stream",
     "text": [
      "Masukkan indeks baris= 1\n",
      "masukkan indeks kolom= 1\n",
      "masukkan Data =6\n",
      "masukkan data lagi(y/t)?y\n",
      "Masukkan indeks baris= 0\n",
      "masukkan indeks kolom= 0\n",
      "masukkan Data =7\n",
      "masukkan data lagi(y/t)?t\n",
      "{'baris': 4, 'kolom': 5, (1, 1): 6, (0, 0): 7}\n",
      "{'baris': 4, 'kolom': 5, (1, 1): 1, (3, 1): 5}\n"
     ]
    }
   ],
   "source": [
    "def createSparseMatrix(baris,kolom):\n",
    "    stop=False \n",
    "    mat={'baris':baris,'kolom':kolom}\n",
    "    while not (stop):\n",
    "        indBaris=int(input('Masukkan indeks baris= '))\n",
    "        indKolom=int(input('masukkan indeks kolom= '))\n",
    "        mat[(indBaris,indKolom)]=int(input('masukkan Data ='))\n",
    "        lagi=input('masukkan data lagi(y/t)?')\n",
    "        if lagi=='t':\n",
    "            stop=True\n",
    "    return mat\n",
    "\n",
    "mat1=createSparseMatrix(4,5)\n",
    "print(mat1)\n",
    "mat2={'baris':4,'kolom':5,(1,1):1,(3,1):5}\n",
    "print(mat2)"
   ]
  },
  {
   "cell_type": "code",
   "execution_count": null,
   "id": "14b39d8b",
   "metadata": {},
   "outputs": [],
   "source": []
  },
  {
   "cell_type": "code",
   "execution_count": 22,
   "id": "7f34a9b8",
   "metadata": {},
   "outputs": [
    {
     "name": "stdout",
     "output_type": "stream",
     "text": [
      "masukkan indeks baris=3\n",
      "masukkan indek kolom =4\n",
      "masukkan nilai =1\n",
      "apakah lagi(y/t)y\n",
      "masukkan indeks baris=4\n",
      "masukkan indek kolom =5\n",
      "masukkan nilai =6\n",
      "apakah lagi(y/t)t\n",
      "{'baris': 3, 'kolom': 4, (3, 4): 1, (4, 5): 6}\n"
     ]
    }
   ],
   "source": [
    "def buat_gabutSPARSE(baris,kolom):\n",
    "    stop=False\n",
    "    matrix={'baris':baris,'kolom':kolom}\n",
    "    while not(stop):\n",
    "        indbaris=int(input('masukkan indeks baris='))\n",
    "        indkolom=int(input('masukkan indek kolom ='))\n",
    "        matrix[(indbaris,indkolom)]=int(input('masukkan nilai ='))\n",
    "        lagi=input('apakah lagi(y/t)')\n",
    "        if lagi=='t':\n",
    "            stop=True\n",
    "    return matrix\n",
    "print(buat_gabutSPARSE(3,4))"
   ]
  },
  {
   "cell_type": "code",
   "execution_count": 19,
   "id": "90cf4fee",
   "metadata": {},
   "outputs": [
    {
     "name": "stdout",
     "output_type": "stream",
     "text": [
      "masukkan baris = 1\n",
      "masukkan kolom = 2\n",
      "masukkan nilai = 3\n",
      "apakah lagi hmm???= T\n",
      "{'baris': 4, 'kolom': 5, (1, 2): 3}\n"
     ]
    }
   ],
   "source": [
    "def buat_sparse(baris,kolom):\n",
    "    stop=False\n",
    "    matrix={'baris':baris,'kolom':kolom}\n",
    "    while not(stop):\n",
    "        indbaris=int(input('masukkan baris = '))\n",
    "        indkolom=int(input('masukkan kolom = '))\n",
    "        matrix[(indbaris,indkolom)]=int(input('masukkan nilai = '))\n",
    "        lagi=input('apakah lagi hmm???= ')\n",
    "        if lagi =='t' or lagi =='T':\n",
    "            stop=True\n",
    "    return matrix\n",
    "print(buat_sparse(4,5))"
   ]
  },
  {
   "cell_type": "code",
   "execution_count": 53,
   "id": "e0890ee4",
   "metadata": {
    "scrolled": true
   },
   "outputs": [
    {
     "name": "stdout",
     "output_type": "stream",
     "text": [
      "masukkan baris = 2\n",
      "masukkan kolom = 5\n",
      "masukkan nilai= 6\n",
      "apakah lagi atau tiadak(y/t)t\n",
      "{'baris': 3, 'kolom': 4, (2, 5): 6}\n"
     ]
    }
   ],
   "source": [
    "def buatsparse(baris,kolom):\n",
    "    stop=False\n",
    "    matrix={'baris':baris,\"kolom\":kolom}\n",
    "    while not(stop):\n",
    "        indbaris=int(input('masukkan baris = '))\n",
    "        indkolom=int(input('masukkan kolom = '))\n",
    "        matrix[(indbaris,indkolom)]=int(input('masukkan nilai= '))\n",
    "        lagi =input('apakah lagi atau tiadak(y/t)')\n",
    "        if lagi =='t':\n",
    "            stop=True\n",
    "    return matrix\n",
    "print(buatsparse(3,4))"
   ]
  },
  {
   "cell_type": "code",
   "execution_count": 54,
   "id": "902cae1f",
   "metadata": {},
   "outputs": [
    {
     "name": "stdout",
     "output_type": "stream",
     "text": [
      "masukkan indek baris= 3\n",
      "masukkan indek kolom= 4\n",
      "masukkan nilai = 5\n",
      "apakah lagi(y/t)r\n",
      "masukkan indek baris= 8\n",
      "masukkan indek kolom= 6\n",
      "masukkan nilai = 5\n",
      "apakah lagi(y/t)t\n",
      "{'baris': 3, 'kolom': 2, (3, 4): 5, (8, 6): 5}\n"
     ]
    }
   ],
   "source": [
    "def buatSPARSE(baris,kolom):\n",
    "    stop=False\n",
    "    mat={'baris':baris,'kolom':kolom}\n",
    "    while not (stop):\n",
    "        indbaris=int(input('masukkan indek baris= '))\n",
    "        indkolom=int(input('masukkan indek kolom= '))\n",
    "        mat[(indbaris,indkolom)]=int(input('masukkan nilai = '))\n",
    "        lagi=input('apakah lagi(y/t)')\n",
    "        if lagi=='t':\n",
    "            stop=True\n",
    "    return mat\n",
    "print(buatSPARSE(3,2))\n",
    "print(buatSPARSE(3,2))"
   ]
  },
  {
   "cell_type": "code",
   "execution_count": null,
   "id": "aa747a04",
   "metadata": {},
   "outputs": [],
   "source": []
  },
  {
   "cell_type": "code",
   "execution_count": 2,
   "id": "2c89a106",
   "metadata": {},
   "outputs": [
    {
     "name": "stdout",
     "output_type": "stream",
     "text": [
      "{'baris': 4, 'kolom': 5, (0, 0): 7, (1, 1): 7, (3, 1): 5}\n"
     ]
    }
   ],
   "source": [
    "def addSparseMat(mat1,mat2):\n",
    "    if mat1['baris']==mat2['baris'] and mat1['kolom']==mat2['kolom']:\n",
    "        mat3={'baris':mat1['baris'],'kolom':mat1['kolom']}\n",
    "        for i in range(mat1['baris']):\n",
    "            for j in range(mat1['kolom']):\n",
    "                if mat1.get((i,j))!=None and mat2.get((i,j))!=None:\n",
    "                    mat3[(i,j)]=mat1[(i,j)]+mat2[(i,j)]\n",
    "                elif mat1.get((i,j))!=None and mat2.get((i,j))==None:\n",
    "                    mat3[(i,j)]=mat1[(i,j)]\n",
    "                elif mat1.get((i,j))==None and mat2.get((i,j))!=None:\n",
    "                    mat3[(i,j)]=mat2[(i,j)]\n",
    "        return mat3\n",
    "    else:\n",
    "        return \"tidak sesuai\" \n",
    "        \n",
    "hasil=addSparseMat(mat1,mat2)\n",
    "print(hasil)"
   ]
  },
  {
   "cell_type": "code",
   "execution_count": 3,
   "id": "441c353c",
   "metadata": {},
   "outputs": [
    {
     "name": "stdout",
     "output_type": "stream",
     "text": [
      "\n"
     ]
    }
   ],
   "source": [
    "def tambahSparse(mat1,mat2):\n",
    "    if mat1['baris']==mat2['baris'] and mat1['kolom']==mat2['kolom']:\n",
    "        mat3={'baris':mat1['baris'],'kolom':mat1['kolom']}\n",
    "        for i in range(mat1['baris']):\n",
    "            for j in range(mat1['kolom']):\n",
    "                if mat1.get((i,j))!=None and mat2.get((i,j))!=None:\n",
    "                    mat3[(i,j)]=mat1[(i,j)]+mat2[(i,j)]\n",
    "                elif mat1.get((i,j))!=None and mat2.get((i,j))==None:\n",
    "                    mat3[(i,j)]=mat1[(i,j)]\n",
    "                elif mat1.get((i,j))==None and mat2.get((i,j))!=None:\n",
    "                    mat3[(i,j)]=mat2[(i,j)]\n",
    "        return mat3\n",
    "    else:\n",
    "        return 'ukuran tidak sama'\n",
    "print()"
   ]
  },
  {
   "cell_type": "code",
   "execution_count": 4,
   "id": "c9a13b02",
   "metadata": {},
   "outputs": [
    {
     "name": "stdout",
     "output_type": "stream",
     "text": [
      "{'baris': 4, 'kolom': 5, (0, 0): 7, (1, 1): 7, (3, 1): 5}\n"
     ]
    }
   ],
   "source": [
    "a={'baris': 4, 'kolom': 5, (1, 1): 6, (0, 0): 7}\n",
    "b={'baris': 4, 'kolom': 5, (1, 1): 1, (3, 1): 5}\n",
    "print(tambahSparse(a,b))"
   ]
  },
  {
   "cell_type": "code",
   "execution_count": 64,
   "id": "2afe52b7",
   "metadata": {},
   "outputs": [
    {
     "name": "stdout",
     "output_type": "stream",
     "text": [
      "{'baris': 4, 'kolom': 5, (0, 0): 7, (1, 1): 7, (3, 1): 5}\n"
     ]
    }
   ],
   "source": [
    "def pertambahanmat(mat1,mat2):\n",
    "    if mat1['baris']==mat2['baris'] and mat1['kolom']==mat2['kolom']:\n",
    "        mat3={'baris':mat1['baris'],'kolom':mat1['kolom']}\n",
    "        for i in range(mat1['baris']):\n",
    "            for j in range(mat1['kolom']):\n",
    "                if mat1.get((i,j))!=None and mat2.get((i,j))!=None:\n",
    "                    mat3[(i,j)]=mat1[(i,j)]+mat2[(i,j)]\n",
    "                elif mat1.get((i,j))!=None and mat2.get((i,j))==None:\n",
    "                    mat3[(i,j)]=mat1[(i,j)]\n",
    "                elif mat1.get((i,j))==None and mat2.get((i,j))!=None:\n",
    "                    mat3[(i,j)]=mat2[(i,j)]\n",
    "        return mat3\n",
    "    else:\n",
    "        return 'tidak sma'\n",
    "a={'baris': 4, 'kolom': 5, (1, 1): 6, (0, 0): 7}\n",
    "b={'baris': 4, 'kolom': 5, (1, 1): 1, (3, 1): 5}\n",
    "print(pertambahanmat(a,b))"
   ]
  },
  {
   "cell_type": "code",
   "execution_count": 66,
   "id": "c6eb70ea",
   "metadata": {
    "scrolled": true
   },
   "outputs": [
    {
     "name": "stdout",
     "output_type": "stream",
     "text": [
      "{'baris': 4, 'kolom': 5, (0, 0): 7, (1, 1): 7, (3, 1): 5}\n"
     ]
    }
   ],
   "source": [
    "def pertambahan(mat1,mat2):\n",
    "    if mat1['baris']==mat2['baris'] and mat1['kolom']==mat2['kolom']:\n",
    "        mat3={'baris':mat1['baris'],'kolom':mat1['kolom']}\n",
    "        for i in range(mat1['baris']):\n",
    "            for j in range(mat1['kolom']):\n",
    "                if mat1.get((i,j))!=None and mat2.get((i,j))!=None:\n",
    "                    mat3[(i,j)]=mat1[(i,j)]+mat2[(i,j)]\n",
    "                elif mat1.get((i,j))!=None and mat2.get((i,j))==None:\n",
    "                    mat3[(i,j)]=mat1[(i,j)]\n",
    "                elif mat1.get((i,j))==None and mat2.get((i,j))!=None:\n",
    "                    mat3[(i,j)]=mat2[(i,j)]\n",
    "        return mat3\n",
    "    else:\n",
    "        return 'tidak sma woii'\n",
    "a={'baris': 4, 'kolom': 5, (1, 1): 6, (0, 0): 7}\n",
    "b={'baris': 4, 'kolom': 5, (1, 1): 1, (3, 1): 5}\n",
    "print(pertambahan(a,b))"
   ]
  },
  {
   "cell_type": "code",
   "execution_count": 6,
   "id": "26dd17f0",
   "metadata": {},
   "outputs": [
    {
     "name": "stdout",
     "output_type": "stream",
     "text": [
      "{'baris': 4, 'kolom': 5, (0, 0): 7, (1, 1): 7, (3, 1): 5}\n"
     ]
    }
   ],
   "source": [
    "def pertambahan (mat1,mat2):\n",
    "    if mat1['baris']==mat2['baris']and mat1['kolom']==mat2['kolom']:\n",
    "        mat3={'baris':mat1['baris'],'kolom':mat2['kolom']}\n",
    "        for i in range(mat1['baris']):\n",
    "            for j in range(mat1['kolom']):\n",
    "                if mat1.get((i,j))!=None and mat2.get((i,j))!=None:\n",
    "                    mat3[(i,j)]=mat1[(i,j)]+mat2[(i,j)]\n",
    "                elif mat1.get((i,j))!=None and mat2.get((i,j))==None:\n",
    "                    mat3[(i,j)]=mat1[(i,j)]\n",
    "                elif mat1.get((i,j))==None and mat2.get((i,j))!=None:\n",
    "                    mat3[(i,j)]=mat2[(i,j)]\n",
    "        return mat3\n",
    "    else:\n",
    "        return 'ukuran tidak sama'\n",
    "\n",
    "print(pertambahan(a,b))"
   ]
  },
  {
   "cell_type": "code",
   "execution_count": 4,
   "id": "2b370703",
   "metadata": {},
   "outputs": [
    {
     "name": "stdout",
     "output_type": "stream",
     "text": [
      "[[4, 6, 8], [10, 12, 14]]\n"
     ]
    }
   ],
   "source": [
    "# Skalar\n",
    "a       = [[2,3,4],[5,6,7]]\n",
    "skr     = 2\n",
    "\n",
    "def skalar(matrix,skl) :\n",
    "    for i in range(len(matrix)) :\n",
    "        for j in range(len(matrix)+1) :\n",
    "            matrix[i][j] = matrix[i][j] * skl\n",
    "    return matrix\n",
    "\n",
    "print(skalar(a,skr))"
   ]
  },
  {
   "cell_type": "code",
   "execution_count": 67,
   "id": "fa1b1288",
   "metadata": {},
   "outputs": [
    {
     "name": "stdout",
     "output_type": "stream",
     "text": [
      "{'baris': 4, 'kolom': 5, (0, 0): 7, (1, 1): 7, (3, 1): 5}\n"
     ]
    }
   ],
   "source": [
    "def pertambahanLAGI(mat1,mat2):\n",
    "    if mat1['baris']==mat2['baris']and mat1['kolom']==mat2['kolom']:\n",
    "        mat3={'baris':mat1['baris'] ,'kolom':mat1['kolom']}\n",
    "        for i in range(mat1['baris']):\n",
    "            for j in range(mat1['kolom']):\n",
    "                if mat1.get((i,j))!=None and mat2.get((i,j))!=None:\n",
    "                    mat3[(i,j)]=mat1[(i,j)]+mat2[(i,j)]\n",
    "                elif mat1.get((i,j))!=None and mat2.get((i,j))==None:\n",
    "                    mat3[(i,j)]=mat1[(i,j)]\n",
    "                elif mat1.get((i,j))==None and mat2.get((i,j))!=None:\n",
    "                    mat3[(i,j)]=mat2[(i,j)]\n",
    "        return mat3\n",
    "    else:\n",
    "        return 'tidak sama'\n",
    "print(pertambahanLAGI(a,b))"
   ]
  },
  {
   "cell_type": "code",
   "execution_count": null,
   "id": "c7159c8a",
   "metadata": {},
   "outputs": [],
   "source": [
    "# fungsi"
   ]
  },
  {
   "cell_type": "code",
   "execution_count": null,
   "id": "b6e444bd",
   "metadata": {},
   "outputs": [],
   "source": [
    "def createList (ukuranlist):\n",
    "    list1=[]\n",
    "    for i in range(ukuranlist):\n",
    "        inputan=int(input(f'Masukkan data ke-{i}:'))\n",
    "        list1.append(inputan)\n",
    "    return list1\n",
    "a=createList(10)\n",
    "print('data list =',a)"
   ]
  },
  {
   "cell_type": "code",
   "execution_count": 69,
   "id": "ffff3a83",
   "metadata": {},
   "outputs": [],
   "source": [
    "def isPrime(bilangan):\n",
    "    count=0\n",
    "    for i in range(1,bilangan+1):\n",
    "        if bilangan%i==0:\n",
    "            count=count+1\n",
    "    if count==2:\n",
    "        return True\n",
    "    return False\n"
   ]
  },
  {
   "cell_type": "code",
   "execution_count": 70,
   "id": "445ded1b",
   "metadata": {},
   "outputs": [
    {
     "data": {
      "text/plain": [
       "[3, 7, 5, 11, 19]"
      ]
     },
     "execution_count": 70,
     "metadata": {},
     "output_type": "execute_result"
    }
   ],
   "source": [
    "def createListPrime(a):\n",
    "    create=[]\n",
    "    for i in a :\n",
    "        if isPrime(i) :\n",
    "            create.append(i)\n",
    "    return create\n",
    "a = [1,3,7,5,11,19,4,32,142,5575,121,1]\n",
    "createListPrime(a)"
   ]
  },
  {
   "cell_type": "code",
   "execution_count": null,
   "id": "ec305ae5",
   "metadata": {},
   "outputs": [],
   "source": [
    "def cekPrima(bil):\n",
    "    count=0\n",
    "    for i in range(bil):\n",
    "        if bil%(i+1)==0:\n",
    "            count=count+1\n",
    "    print(count)\n",
    "    if count==2:\n",
    "        return True\n",
    "    else:\n",
    "        return False\n",
    "cekPrima(8)"
   ]
  },
  {
   "cell_type": "code",
   "execution_count": 9,
   "id": "25e869e0",
   "metadata": {},
   "outputs": [
    {
     "name": "stdout",
     "output_type": "stream",
     "text": [
      "==> Masukkan bilangan = 5\n",
      "5 ! = 120\n"
     ]
    }
   ],
   "source": [
    "def faktorial(akg):\n",
    "    if akg==0 :\n",
    "        faktor=1\n",
    "    else : \n",
    "        faktor  =1\n",
    "        for i in range(akg,0,-1):\n",
    "            #print(i)\n",
    "            faktor  = faktor*i\n",
    "        \n",
    "    return(faktor)\n",
    "\n",
    "\n",
    "angka   = int(input(\"==> Masukkan bilangan = \"))\n",
    "hasil   = faktorial(angka)\n",
    "print(angka,\"! =\",hasil)"
   ]
  },
  {
   "cell_type": "code",
   "execution_count": 19,
   "id": "0f15fe44",
   "metadata": {},
   "outputs": [
    {
     "name": "stdout",
     "output_type": "stream",
     "text": [
      "32\n"
     ]
    }
   ],
   "source": [
    "def eksponen(a,e) : #fungsi rekursif\n",
    "    if e == 0 :\n",
    "        return 1\n",
    "    else :\n",
    "        return a*eksponen(a,e-1)\n",
    "    \n",
    "ak = 2 #angka\n",
    "ek = 5# eksponen(a pangkat b)\n",
    "print(eksponen(ak,ek))"
   ]
  },
  {
   "cell_type": "code",
   "execution_count": 11,
   "id": "b3680530",
   "metadata": {},
   "outputs": [
    {
     "name": "stdout",
     "output_type": "stream",
     "text": [
      "itu sepertinya di itu kan oleh orang seperti itu sambil seperti itu\n",
      "('jumlah kata', 'itu', 'sebanyak=', 4)\n"
     ]
    }
   ],
   "source": [
    "def katakalimat(kata,kalimat):\n",
    "    kalimatbaru=kalimat.split()\n",
    "    print(kalimat)\n",
    "    temp=0\n",
    "    for i in range(len(kalimatbaru)):\n",
    "        if kata==kalimatbaru[i]:\n",
    "            hasil=kalimatbaru[i]\n",
    "            temp+=1\n",
    "    #print(hasil)\n",
    "    return 'jumlah kata',hasil,'sebanyak=',temp\n",
    "kata=\"itu\"\n",
    "kalimat=\"itu sepertinya di itu kan oleh orang seperti itu sambil seperti itu\"\n",
    "print(katakalimat(kata,kalimat))"
   ]
  },
  {
   "cell_type": "code",
   "execution_count": null,
   "id": "07b38dff",
   "metadata": {},
   "outputs": [],
   "source": [
    "def numberOfWord(word,text):\n",
    "    print(text)\n",
    "    newText=text.split()\n",
    "    i=0;\n",
    "    count=0\n",
    "    \n",
    "    while i<len(newText):\n",
    "        if newText[i]==word:\n",
    "            count=count+1;\n",
    "        i=i+1\n",
    "    return(count)\n",
    "\n",
    "#Main Program\n",
    "fullText=\"nadhif adalah orang jawa tengah,nadhif itu itu itu aneh,nadhif suka makan geprek\"\n",
    "targetText=\"itu\"\n",
    "num=numberOfWord(targetText,fullText)\n",
    "print ('terdapat ', num, ' \"itu\" didalam text')"
   ]
  },
  {
   "cell_type": "code",
   "execution_count": 20,
   "id": "4aa61b59",
   "metadata": {},
   "outputs": [
    {
     "name": "stdout",
     "output_type": "stream",
     "text": [
      "==> Masukkan Kata/Kalimat : nadhif\n",
      "n  adalah huruf konsonan\n",
      "a  adalah huruf vokal\n",
      "d  adalah huruf konsonan\n",
      "h  adalah huruf konsonan\n",
      "i  adalah huruf vokal\n",
      "f  adalah huruf konsonan\n",
      "None\n"
     ]
    }
   ],
   "source": [
    "kalimat    = input(\"==> Masukkan Kata/Kalimat : \") \n",
    "\n",
    "def cekKonsonan(data) :\n",
    "    vokal   = ['a','i','u','e','o']\n",
    "    for huruf in data :\n",
    "        if huruf.lower() in vokal : \n",
    "            print(huruf,\" adalah huruf vokal\")\n",
    "        else:\n",
    "            print(huruf,\" adalah huruf konsonan\")          \n",
    "\n",
    "print(cekKonsonan(kalimat))"
   ]
  },
  {
   "cell_type": "code",
   "execution_count": 23,
   "id": "97b6fda9",
   "metadata": {},
   "outputs": [
    {
     "name": "stdout",
     "output_type": "stream",
     "text": [
      "==> Masukkan angka : 3\n",
      "==> Masukkan jumlah eksponen : 2\n",
      "9\n"
     ]
    }
   ],
   "source": [
    "angka       = int(input(\"==> Masukkan angka : \"))\n",
    "jmlEksponen = int(input(\"==> Masukkan jumlah eksponen : \"))\n",
    "\n",
    "def eksponen(akg,jEks) : #diambil dari var angka dan jml eksponen\n",
    "    hasil = 1\n",
    "    for i in range(jEks) :\n",
    "        hasil = hasil*angka\n",
    "\n",
    "    return hasil\n",
    "\n",
    "\n",
    "print(eksponen(angka,jmlEksponen)) #menampilkan hasil dari eksponen"
   ]
  },
  {
   "cell_type": "code",
   "execution_count": 22,
   "id": "868b4fdc",
   "metadata": {},
   "outputs": [
    {
     "name": "stdout",
     "output_type": "stream",
     "text": [
      "masukkan nilai=2\n",
      "masukkan nilai=3\n",
      "8\n"
     ]
    }
   ],
   "source": [
    "def eksponen(a,b):\n",
    "    for i in range(b):\n",
    "        hasil=a**b\n",
    "    return hasil\n",
    "\n",
    "inp1=int(input('masukkan nilai='))\n",
    "inp2=int(input('masukkan nilai='))\n",
    "print(eksponen(inp1,inp2))"
   ]
  },
  {
   "cell_type": "code",
   "execution_count": null,
   "id": "08c6417f",
   "metadata": {},
   "outputs": [],
   "source": [
    "def avgList(createList):\n",
    "    tambah=0\n",
    "    for i in range(len(createList)):\n",
    "        tambah+=createList[i]\n",
    "    rata2=tambah/len(createList)\n",
    "    return rata2\n",
    "h=[4, 5, 6, 7]\n",
    "print(avgList(h))"
   ]
  },
  {
   "cell_type": "code",
   "execution_count": null,
   "id": "63671ed3",
   "metadata": {},
   "outputs": [],
   "source": [
    "def createList(ukuranList):\n",
    "    list1=[]\n",
    "    for i in range(ukuranList):\n",
    "        inp=int(input(f'masukkan data ke-{i}:'))\n",
    "        list1.append(inp)\n",
    "    return list1\n",
    "def avgList(createlist):\n",
    "    list2=[]\n",
    "    count=0\n",
    "    for i in range(len(createlist)):\n",
    "        count+=createlist[i]\n",
    "    rata2=count/len(createlist)\n",
    "    list2.append(rata2)\n",
    "    return list2\n",
    "def addList(data1,data2):\n",
    "    tambah2=[]\n",
    "    if len(data1)==len(data2):\n",
    "        for i in range(len(data1)):\n",
    "            jumlah=data1[i] + data2[i]\n",
    "            tambah2.append(jumlah)\n",
    "            hasil=tambah2\n",
    "    else:\n",
    "        hasil='ukuran list tidak sama'\n",
    "    return hasil\n",
    "\n",
    "    \n",
    "data1=createList(4)\n",
    "print('data - 1= ',data1,'; rata-rata list =',avgList(data1))\n",
    "data2=createList(5)\n",
    "print('data - 2= ',data2,'; rata-rata list=',avgList(data2))\n",
    "hasil=addList(data1,data2)\n",
    "print(data1,\"+\",data2,'=',hasil)"
   ]
  },
  {
   "cell_type": "code",
   "execution_count": 4,
   "id": "7849e1ba",
   "metadata": {},
   "outputs": [],
   "source": [
    "def operasi (x,y):\n",
    "\n",
    "    tambah=x+y\n",
    "\n",
    "    kurang=x-y\n",
    "\n",
    "    bagi=x/y\n",
    "\n",
    "    kali=x*y\n",
    "\n",
    "    return tambah,kurang,bagi,kali"
   ]
  },
  {
   "cell_type": "code",
   "execution_count": 5,
   "id": "751d7cdb",
   "metadata": {},
   "outputs": [
    {
     "name": "stdout",
     "output_type": "stream",
     "text": [
      "hasil dari pertambahan 12\n",
      "hasil dari pemgurangan 6\n",
      "hasil dari pembagian 3.0\n",
      "hasil dari perkalian 27\n"
     ]
    }
   ],
   "source": [
    "a,b,c,d=operasi(9,3)\n",
    "print('hasil dari pertambahan',a)\n",
    "print('hasil dari pemgurangan',b)\n",
    "print('hasil dari pembagian',c)\n",
    "print('hasil dari perkalian',d)"
   ]
  },
  {
   "cell_type": "markdown",
   "id": "b2e1bffe",
   "metadata": {},
   "source": [
    "# list2D,tuple,sets"
   ]
  },
  {
   "cell_type": "code",
   "execution_count": 8,
   "id": "937e16dd",
   "metadata": {},
   "outputs": [
    {
     "name": "stdout",
     "output_type": "stream",
     "text": [
      "Pengisian data baris ke- 0\n",
      "Masukkan data ke-0=3\n",
      "Masukkan data ke-1=4\n",
      "Pengisian data baris ke- 1\n",
      "Masukkan data ke-0=5\n",
      "Masukkan data ke-1=6\n",
      "Pengisian data baris ke- 2\n",
      "Masukkan data ke-0=2\n",
      "Masukkan data ke-1=3\n",
      "|  3  4  |\n",
      "|  5  6  |\n",
      "|  2  3  |\n"
     ]
    }
   ],
   "source": [
    "def createList1D(ukuranList) :\n",
    "    temp = []\n",
    "    for i in range(ukuranList) :\n",
    "        inp = \"Masukkan data ke-\"+str(i)+\"=\"\n",
    "        temp.append(int(input(inp)))\n",
    "\n",
    "    return temp\n",
    "\n",
    "def dispList1D(ls) :\n",
    "    tempStr=''\n",
    "    for i in range(len(ls)) :\n",
    "        tempStr = tempStr+\" \"+str(ls[i])+\" \"\n",
    "    tempStr = \"| \"+tempStr+\" |\"\n",
    "    print(tempStr)\n",
    "\n",
    "def createList2D(jmlBar,jmlKolom) :\n",
    "    temp = []\n",
    "    for baris in range(jmlBar) :\n",
    "        print(\"Pengisian data baris ke-\",baris)\n",
    "        temp.append(createList1D(jmlKolom))\n",
    "    return temp\n",
    "\n",
    "\n",
    "def dispList2D(matrix) :\n",
    "    for i in range(len(matrix)) :\n",
    "        tmpS = \"\"\n",
    "        for j in range(len(matrix[i])) :\n",
    "\n",
    "            tmpS = tmpS+str(matrix[i][j])+\"  \"\n",
    "          \n",
    "        print(\"| \"+tmpS+\"|\")\n",
    "        \n",
    "        \n",
    "def dispList2D1(matrix):\n",
    "    for baris in matrix :\n",
    "        dispList1D(baris)\n",
    "\n",
    "        \n",
    "mat2 = createList2D(3,2)\n",
    "dispList2D1(mat2)"
   ]
  },
  {
   "cell_type": "code",
   "execution_count": 7,
   "id": "aab505c8",
   "metadata": {},
   "outputs": [
    {
     "name": "stdout",
     "output_type": "stream",
     "text": [
      "==> Masukkan banyak BAB : 2\n",
      "==> Masukkan BAB :1kedokteran\n",
      "-> Masukkan Subab : 4\n",
      "==> Masukkan BAB :23\n",
      "-> Masukkan Subab : 4\n",
      "\n",
      "BAB 1 : kedokteran \n",
      "   1.1 : 4\n",
      "\n",
      "BAB 2 : 3 \n",
      "   2.1 : 4\n"
     ]
    }
   ],
   "source": [
    "banyakBab   = int(input(\"==> Masukkan banyak BAB : \"))\n",
    "subab       = []\n",
    "bab         = []\n",
    "\n",
    "#Memasukkan bab dan subab ke list menggunakan for loop\n",
    "for i in range(banyakBab):\n",
    "    \n",
    "    bab.append(input(\"\\n==> Masukkan BAB %d : \"%(i+1))) #Menambahkan Bab ke list bab\n",
    "    subab.append(input(\"-> Masukkan Subab : \")) #Meanmbahkan Subab ke list subab \n",
    "\n",
    "\n",
    "\n",
    "for i in range(len(subab)) :\n",
    "    subab[i] = subab[i].split(\",\") #Membagi string menjadi potongan list sesuai argument yang dimasukkan\n",
    "\n",
    "\n",
    "#Menampilkan isi list bab dan subbab\n",
    "for i in range(len(bab)) :\n",
    "    \n",
    "    print(\"\\nBAB %d : %s \" %(i+1,bab[i])) #Menapmilkan BAB\n",
    "    for j in range(len(subab[i])) : \n",
    "        print(\"   %d.%d : %s\"% (i+1,j+1,subab[i][j])) #Menampilkan subab"
   ]
  },
  {
   "cell_type": "markdown",
   "id": "d4e5bace",
   "metadata": {},
   "source": [
    "# rekrusif"
   ]
  },
  {
   "cell_type": "code",
   "execution_count": 23,
   "id": "b146974c",
   "metadata": {},
   "outputs": [
    {
     "name": "stdout",
     "output_type": "stream",
     "text": [
      "nadhif fajrul minan\n",
      "nadhif fajrul minan\n",
      "nadhif fajrul minan\n",
      "nadhif fajrul minan\n"
     ]
    }
   ],
   "source": [
    "def looping(text,n):\n",
    "    if n==1:\n",
    "        return text\n",
    "    else:\n",
    "        print(text)\n",
    "    return looping(text,n-1)\n",
    "nadhif='nadhif fajrul minan'\n",
    "print(looping(nadhif,4))"
   ]
  },
  {
   "cell_type": "code",
   "execution_count": null,
   "id": "a4d0e237",
   "metadata": {},
   "outputs": [],
   "source": [
    "def factorialRecursive(number):\n",
    "    if number==1 or number==0: #base function - stopping condition\n",
    "        temp=1\n",
    "    else:\n",
    "        temp=number*factorialRecursive(number-1) # recursive\n",
    "    return(temp)\n",
    "\n",
    "# Main Program #\n",
    "\n",
    "a=int(input(\"masukkan bilangan=\"))\n",
    "b=factorialRecursive(a)\n",
    "print (a,'!=',b)"
   ]
  },
  {
   "cell_type": "code",
   "execution_count": null,
   "id": "e52dfd81",
   "metadata": {},
   "outputs": [],
   "source": [
    "#buatlah faktorial rekrusif\n",
    "def faktorial(angka):\n",
    "    if angka==1:\n",
    "        temp=1\n",
    "    else:\n",
    "        temp=angka*faktorial(angka-1)\n",
    "    return temp\n",
    "inp=int(input(\"masukkan faktorial=\"))\n",
    "print(faktorial(inp))"
   ]
  },
  {
   "cell_type": "code",
   "execution_count": null,
   "id": "4451fefc",
   "metadata": {},
   "outputs": [],
   "source": [
    "def febonaci(angka):\n",
    "    if angka==0:\n",
    "        temp=0\n",
    "    elif angka==1:\n",
    "        temp=1\n",
    "    else:\n",
    "        temp=febonaci(angka-1)+febonaci(angka-2)\n",
    "    return temp\n",
    "inp=int(input('masukan ='))\n",
    "print(febonaci(inp))"
   ]
  },
  {
   "cell_type": "code",
   "execution_count": null,
   "id": "f9c802b8",
   "metadata": {},
   "outputs": [],
   "source": []
  },
  {
   "cell_type": "code",
   "execution_count": 8,
   "id": "b3e601d5",
   "metadata": {},
   "outputs": [
    {
     "name": "stdout",
     "output_type": "stream",
     "text": [
      "56\n"
     ]
    }
   ],
   "source": [
    "def maksimal2(data):\n",
    "    if len(data)==1:\n",
    "        return (data[0])\n",
    "    else:\n",
    "        if data[0]>maksimal2(data[1:]):\n",
    "            return data[0]\n",
    "        else:\n",
    "            return maksimal2(data[1:])\n",
    "a=[2,3,4,56,5,6,7,7,8]\n",
    "print(maksimal2(a))"
   ]
  },
  {
   "cell_type": "code",
   "execution_count": 3,
   "id": "134b5970",
   "metadata": {},
   "outputs": [
    {
     "name": "stdout",
     "output_type": "stream",
     "text": [
      "56\n"
     ]
    }
   ],
   "source": [
    "def maksimal(data):\n",
    "    if len(data)==1:\n",
    "        return data[-1]\n",
    "    else:\n",
    "        if data[-1]>maksimal(data[:-1]):\n",
    "            return data[-1]\n",
    "        else:\n",
    "            return maksimal(data[:-1])\n",
    "\n",
    "b=[2,3,4,56,5,6,7,7,8]\n",
    "print(maksimal(b))"
   ]
  },
  {
   "cell_type": "code",
   "execution_count": 104,
   "id": "354e75a8",
   "metadata": {},
   "outputs": [
    {
     "name": "stdout",
     "output_type": "stream",
     "text": [
      "1\n"
     ]
    }
   ],
   "source": [
    "def maxrek(lis):\n",
    "    if len(lis)==1:\n",
    "        return lis[0]\n",
    "    else:\n",
    "        if lis[0]<maxrek(lis[1:]):\n",
    "            return lis[0]\n",
    "        else:\n",
    "            return maxrek(lis[1:])\n",
    "b=[2,3,4,56,5,6,1,7,7,8]\n",
    "print(maxrek(b))"
   ]
  },
  {
   "cell_type": "code",
   "execution_count": 3,
   "id": "d5fc269d",
   "metadata": {},
   "outputs": [],
   "source": [
    "def isSquare(listMatrix) :\n",
    "        square = True\n",
    "        if len(listMatrix) != len(listMatrix[0]) :\n",
    "            square = False\n",
    "    \n",
    "        return square"
   ]
  },
  {
   "cell_type": "code",
   "execution_count": null,
   "id": "3838a08c",
   "metadata": {},
   "outputs": [],
   "source": [
    "#Dictionary"
   ]
  },
  {
   "cell_type": "code",
   "execution_count": 24,
   "id": "79b2165d",
   "metadata": {
    "scrolled": true
   },
   "outputs": [
    {
     "name": "stdout",
     "output_type": "stream",
     "text": [
      "{4: 'test 0', 5: 'test 1', 6: 'test 2', 7: 'test 3'}\n"
     ]
    }
   ],
   "source": [
    "n=4\n",
    "kamusInt={}\n",
    "for i in range(n):\n",
    "    kamusInt[i+4]='test '+str(i)\n",
    "print(kamusInt)"
   ]
  },
  {
   "cell_type": "code",
   "execution_count": 25,
   "id": "18e4f936",
   "metadata": {
    "scrolled": true
   },
   "outputs": [
    {
     "name": "stdout",
     "output_type": "stream",
     "text": [
      "masukkan dictonary= 5\n",
      "{0: 'tesst 0', 1: 'tesst 1', 2: 'tesst 2', 3: 'tesst 3', 4: 'tesst 4'}\n"
     ]
    }
   ],
   "source": [
    "n=int(input('masukkan dictonary= '))\n",
    "dic={}\n",
    "for i in range(n):\n",
    "    dic[i]='tesst '+str(i)\n",
    "print(dic)"
   ]
  },
  {
   "cell_type": "code",
   "execution_count": 26,
   "id": "31a0cc1b",
   "metadata": {
    "scrolled": true
   },
   "outputs": [
    {
     "name": "stdout",
     "output_type": "stream",
     "text": [
      "masukkan range= 5\n",
      "{4: 'test0', 5: 'test1', 6: 'test2', 7: 'test3', 8: 'test4', 9: 'test5'}\n"
     ]
    }
   ],
   "source": [
    "n=int(input('masukkan range= '))\n",
    "dic={}\n",
    "for i in range(n+1):\n",
    "    dic[i+4]='test'+str(i)\n",
    "print(dic)"
   ]
  },
  {
   "cell_type": "code",
   "execution_count": 27,
   "id": "e972b9c1",
   "metadata": {
    "scrolled": true
   },
   "outputs": [
    {
     "name": "stdout",
     "output_type": "stream",
     "text": [
      "{4: 'buah ke0', 5: 'buah ke1', 6: 'buah ke2', 7: 'buah ke3', 8: 'buah ke4', 9: 'buah ke5', 10: 'buah ke6'}\n"
     ]
    }
   ],
   "source": [
    "def membuatDic(sampai):\n",
    "    dic={}\n",
    "    for i in range(sampai+1):\n",
    "        dic[i+4]='buah ke'+str(i)\n",
    "    return dic\n",
    "print(membuatDic(6))"
   ]
  },
  {
   "cell_type": "code",
   "execution_count": 42,
   "id": "70d50035",
   "metadata": {},
   "outputs": [
    {
     "name": "stdout",
     "output_type": "stream",
     "text": [
      "masukkan range = 6\n",
      "{0: 'buah ->0', 1: 'buah ->1', 2: 'buah ->2', 3: 'buah ->3', 4: 'buah ->4', 5: 'buah ->5'}\n"
     ]
    }
   ],
   "source": [
    "n=int(input('masukkan range = '))\n",
    "dic={}\n",
    "for i in range(n):\n",
    "    dic[i]='buah ->'+str(i)\n",
    "print(dic)"
   ]
  },
  {
   "cell_type": "code",
   "execution_count": 5,
   "id": "41306848",
   "metadata": {
    "scrolled": true
   },
   "outputs": [
    {
     "name": "stdout",
     "output_type": "stream",
     "text": [
      "==> Masukkan nama : nadhif\n",
      "==> Masukkan Alamat : jawa tengah\n",
      "==> Masukkan nama : fajrul\n",
      "==> Masukkan Alamat : pati\n",
      "==> Masukkan nama : minan\n",
      "==> Masukkan Alamat : kajar\n",
      "{0: {'Nama': 'nadhif', 'Alamat': 'jawa tengah'}, 1: {'Nama': 'fajrul', 'Alamat': 'pati'}, 2: {'Nama': 'minan', 'Alamat': 'kajar'}}\n"
     ]
    }
   ],
   "source": [
    "dicts      = {}\n",
    "jumlahData = 3\n",
    "\n",
    "\n",
    "for i in range(jumlahData) :\n",
    "    dicts[i] = {\"Nama\" : input(\"==> Masukkan nama : \"), \"Alamat\" : input(\"==> Masukkan Alamat : \")}\n",
    "\n",
    "print(dicts)"
   ]
  },
  {
   "cell_type": "code",
   "execution_count": 30,
   "id": "72c8cb37",
   "metadata": {},
   "outputs": [
    {
     "name": "stdout",
     "output_type": "stream",
     "text": [
      "masukkan nama : nadhif\n",
      "masukkan alamat =kajar\n",
      "masukkan nama : fajrul\n",
      "masukkan alamat =pati\n",
      "masukkan nama : minan\n",
      "masukkan alamat =jawa Tengah\n",
      "{1: {'nama': 'nadhif', 'alamat ': 'kajar'}, 2: {'nama': 'fajrul', 'alamat ': 'pati'}, 3: {'nama': 'minan', 'alamat ': 'jawa Tengah'}}\n"
     ]
    }
   ],
   "source": [
    "def namaAlamat(sampai):\n",
    "    dic={}\n",
    "    for i in range(1,sampai+1):\n",
    "        dic[i]={'nama':input('masukkan nama : '),'alamat ':input('masukkan alamat =')}\n",
    "    return dic\n",
    "print(namaAlamat(3))"
   ]
  },
  {
   "cell_type": "code",
   "execution_count": 40,
   "id": "4fadbf48",
   "metadata": {},
   "outputs": [
    {
     "name": "stdout",
     "output_type": "stream",
     "text": [
      "masukkan nama :nadhif\n",
      "masukkan prodi= infor\n",
      "masukkan nama :alivian\n",
      "masukkan prodi= infor\n",
      "{0: {'nama': 'nadhif', 'program studi': 'infor'}, 1: {'nama': 'alivian', 'program studi': 'infor'}}\n"
     ]
    }
   ],
   "source": [
    "def namaSTUDI(angka):\n",
    "    dic={}\n",
    "    for i in range(angka):\n",
    "        dic[i]={'nama':input('masukkan nama :'),'program studi':input('masukkan prodi= ')}\n",
    "    return dic\n",
    "print(namaSTUDI(2))"
   ]
  },
  {
   "cell_type": "code",
   "execution_count": 14,
   "id": "3c21a3e6",
   "metadata": {
    "scrolled": true
   },
   "outputs": [
    {
     "name": "stdout",
     "output_type": "stream",
     "text": [
      "{'a': 4, 'l': 1, 'g': 2, 'o': 2, 'r': 3, 'i': 1, 't': 1, 'm': 3, ' ': 1, 'p': 1, 'e': 1, 'n': 1}\n"
     ]
    }
   ],
   "source": [
    "def countChar(word) :\n",
    "    dictChar = {}\n",
    "    for w in word :\n",
    "        if w not in dictChar :\n",
    "            dictChar[w] = 1\n",
    "        else :\n",
    "            dictChar[w]+=1 \n",
    "    \n",
    "    return dictChar\n",
    "\n",
    "\n",
    "kalimat = \"algoritma pemrograman\"\n",
    "print(countChar(kalimat))"
   ]
  },
  {
   "cell_type": "code",
   "execution_count": null,
   "id": "ad4f0c13",
   "metadata": {},
   "outputs": [],
   "source": [
    "def nganu"
   ]
  },
  {
   "cell_type": "code",
   "execution_count": 21,
   "id": "7eea17d3",
   "metadata": {},
   "outputs": [
    {
     "name": "stdout",
     "output_type": "stream",
     "text": [
      "{'n': 3, 'a': 3, 'd': 1, 'h': 1, 'i': 2, 'f': 2, ' ': 2, 'j': 1, 'r': 1, 'u': 1, 'l': 1, 'm': 1}\n"
     ]
    }
   ],
   "source": [
    "def nganu(kalimat):\n",
    "    dic={}\n",
    "    for i in kalimat:\n",
    "        if i not in dic:\n",
    "            dic[i]=1\n",
    "        else:\n",
    "            dic[i]+=1\n",
    "    return dic\n",
    "kalimat='nadhif fajrul minan'\n",
    "print(nganu(kalimat))"
   ]
  },
  {
   "cell_type": "code",
   "execution_count": 23,
   "id": "f6e5eafd",
   "metadata": {},
   "outputs": [
    {
     "name": "stdout",
     "output_type": "stream",
     "text": [
      "{'n': 3, 'a': 3, 'd': 1, 'h': 1, 'i': 2, 'f': 2, ' ': 2, 'j': 1, 'r': 1, 'u': 1, 'l': 1, 'm': 1}\n"
     ]
    }
   ],
   "source": [
    "def dicSTR(kalimat):\n",
    "    dictio={}\n",
    "    for i in kalimat:\n",
    "        if i not in dictio:\n",
    "            dictio[i]=1\n",
    "        else:\n",
    "            dictio[i]+=1\n",
    "    return dictio\n",
    "print(dicSTR(kalimat))"
   ]
  },
  {
   "cell_type": "code",
   "execution_count": 43,
   "id": "3bf88b3b",
   "metadata": {},
   "outputs": [
    {
     "name": "stdout",
     "output_type": "stream",
     "text": [
      "{'k': 1, 'a': 2, 'l': 1, 'i': 1, 'm': 1, 't': 1}\n"
     ]
    }
   ],
   "source": [
    "def nganu(kalimat):\n",
    "    dic={}\n",
    "    for i in kalimat:\n",
    "        if i not in dic:\n",
    "            dic[i]=1\n",
    "        else:\n",
    "            dic[i]+=1\n",
    "    return dic\n",
    "a='kalimat'\n",
    "print(nganu(a))"
   ]
  },
  {
   "cell_type": "code",
   "execution_count": 3,
   "id": "b1d6c312",
   "metadata": {},
   "outputs": [
    {
     "name": "stdout",
     "output_type": "stream",
     "text": [
      " 0 0 0 0 0 \n",
      " 0 3 0 0 0 \n",
      " 0 0 0 0 0 \n",
      " 0 0 0 5 0 \n",
      " \n"
     ]
    }
   ],
   "source": [
    "dictData={(1,1):3,(3,3):5}\n",
    "baris=4\n",
    "kolom=5\n",
    "temp=\" \"\n",
    "for i in range(baris):\n",
    "    for j in range(kolom):\n",
    "        if dictData.get((i,j))==None:\n",
    "            temp=temp+str(0)+\" \"\n",
    "        else:\n",
    "            temp=temp+str(dictData.get((i,j)))+\" \"\n",
    "    temp=temp+\"\\n\"+' '\n",
    "print(temp)\n"
   ]
  },
  {
   "cell_type": "code",
   "execution_count": 47,
   "id": "6efa1243",
   "metadata": {},
   "outputs": [
    {
     "name": "stdout",
     "output_type": "stream",
     "text": [
      "0 0 0 0 0 0 \n",
      "0 3 0 0 0 0 \n",
      "0 0 0 0 0 0 \n",
      "0 0 0 5 0 0 \n",
      "0 0 0 0 0 0 \n",
      "\n"
     ]
    }
   ],
   "source": [
    "def kotak(baris,kolom,data):\n",
    "    temp=''\n",
    "    for i in range(baris):\n",
    "        for j in range(kolom):\n",
    "            if data.get((i,j))==None:\n",
    "                temp=temp+str(0)+' '\n",
    "            else:\n",
    "                temp=temp+str(data.get((i,j)))+' '\n",
    "        temp=temp+'\\n'+''\n",
    "    return temp\n",
    "data={(1,1):3,(3,3):5}\n",
    "print(kotak(5,6,data))"
   ]
  },
  {
   "cell_type": "code",
   "execution_count": null,
   "id": "6768a645",
   "metadata": {},
   "outputs": [],
   "source": [
    "# Triangle (sama kaki,terbalik,siku kanan,siku kiri,belah ketupat,segitiga bolak balik)"
   ]
  },
  {
   "cell_type": "code",
   "execution_count": 9,
   "id": "996dcb30",
   "metadata": {},
   "outputs": [
    {
     "name": "stdout",
     "output_type": "stream",
     "text": [
      "    * \r\n",
      "   * * \r\n",
      "  * * * \r\n",
      " * * * * \r\n",
      "* * * * * \r\n"
     ]
    }
   ],
   "source": [
    "def triangle(n):\n",
    "\n",
    "    k = n - 1\n",
    "\n",
    "    for i in range(0, n):\n",
    "\n",
    "        for j in range(0, k):\n",
    "            print(end=\" \")\n",
    "\n",
    "        k = k - 1\n",
    "\n",
    "        for j in range(0, i+1):\n",
    "\n",
    "            print(\"* \", end=\"\")\n",
    "\n",
    "        print(\"\\r\")\n",
    "\n",
    "n = 5\n",
    "triangle(n)"
   ]
  },
  {
   "cell_type": "code",
   "execution_count": null,
   "id": "684b6c27",
   "metadata": {},
   "outputs": [],
   "source": []
  },
  {
   "cell_type": "markdown",
   "id": "87f9e8a3",
   "metadata": {},
   "source": [
    "# contoh soal UAS GITHUB"
   ]
  },
  {
   "cell_type": "code",
   "execution_count": 72,
   "id": "f48691ad",
   "metadata": {},
   "outputs": [
    {
     "name": "stdout",
     "output_type": "stream",
     "text": [
      "uaaa\n",
      "2D :  [[1, 3, 5], [7, 0, 2]]\n",
      "1D :  [1, 3, 5, 7, 0, 2]\n",
      "[0,0] [0,1] \n",
      "\n",
      "[1,0] [1,1] \n",
      "\n",
      "1   2   3   \n",
      "4   5   6   \n",
      "\n",
      "\n",
      "\n",
      "1   2   \n",
      "3   4   \n",
      "5   6   \n",
      "\n"
     ]
    }
   ],
   "source": [
    "#uas kode 1\n",
    "def kataBaru(s):\n",
    "    a=\"\"\n",
    "    for i in range(len(s)) :\n",
    "        if i%2 != 0 :\n",
    "            a+=s[i]\n",
    "    return a\n",
    "print(kataBaru(\"Surabaya\"))\n",
    "\n",
    "#UAS kode 2\n",
    "def create1D(ls) :\n",
    "    lsh = []\n",
    "    for baris in ls :\n",
    "        for kolom in baris :\n",
    "            lsh.append(kolom)\n",
    "    return lsh\n",
    "\n",
    "ls2=[[1,3,5],[7,0,2]]\n",
    "\n",
    "print(\"2D : \",ls2)\n",
    "print(\"1D : \",create1D(ls2))\n",
    "\n",
    "#UAS kode 2.1\n",
    "def matr(baris,kolom) :\n",
    "    for i in range(baris) :\n",
    "        for j in range(kolom) :\n",
    "            print(\"[%d,%d] \"%(i,j),end=\"\" )\n",
    "            if j == kolom-1 :\n",
    "                print(\"\\n\")\n",
    "\n",
    "matr(2,2)\n",
    "\n",
    "#UAS kode 3\n",
    "def dispMat(mat) :\n",
    "    i=0\n",
    "    stm =\"\"\n",
    "    for baris in mat :\n",
    "        for kolom in baris :\n",
    "            stm+=str(kolom)+\"   \"\n",
    "            \n",
    "            if i == len(baris)-1 :\n",
    "                stm+=\"\\n\"\n",
    "                i=-1\n",
    "            i+=1\n",
    "            \n",
    "    return stm\n",
    "\n",
    "def revMat(mt) :\n",
    "    hs=[]\n",
    "    tmphasil=[]\n",
    "    hasil=[]\n",
    "    bar = len(mt)\n",
    "    klm = len(mt[0])\n",
    "    for baris in mt :\n",
    "        for kolom in baris :\n",
    "            hs.append(kolom)\n",
    "    a=0\n",
    "    for i in range(len(hs)) :\n",
    "        tmphasil.append(hs[i])\n",
    "        if a == bar-1 :\n",
    "            a=-1\n",
    "            hasil.append(tmphasil)\n",
    "            tmphasil = []\n",
    "        a+=1\n",
    "    return hasil\n",
    "        \n",
    "\n",
    "mt=[[1,2,3],[4,5,6]]\n",
    "\n",
    "print(dispMat(mt))\n",
    "print(\"\\n\")\n",
    "print(dispMat(revMat(mt)))"
   ]
  },
  {
   "cell_type": "code",
   "execution_count": 84,
   "id": "1172a0ab",
   "metadata": {},
   "outputs": [
    {
     "name": "stdout",
     "output_type": "stream",
     "text": [
      "uaaa\n",
      "2D :  [[1, 3, 5], [7, 0, 2]]\n",
      "1D :  [1, 3, 5, 7, 0, 2]\n",
      "[0,0] [0,1] \n",
      "\n",
      "[1,0] [1,1] \n",
      "\n",
      "1   2   3   \n",
      "4   5   6   \n",
      "\n",
      "\n",
      "\n",
      "1   2   \n",
      "3   4   \n",
      "5   6   \n",
      "\n"
     ]
    }
   ],
   "source": [
    "#uas kode 1\n",
    "def kataBaru(s):\n",
    "    a=\"\"\n",
    "    for i in range(len(s)) :\n",
    "        if i%2 != 0 :\n",
    "            a+=s[i]\n",
    "    return a\n",
    "print(kataBaru(\"Surabaya\"))\n",
    "\n",
    "#UAS kode 2\n",
    "def create1D(ls) :\n",
    "    lsh = []\n",
    "    for baris in ls :\n",
    "        for kolom in baris :\n",
    "            lsh.append(kolom)\n",
    "    return lsh\n",
    "\n",
    "ls2=[[1,3,5],[7,0,2]]\n",
    "\n",
    "print(\"2D : \",ls2)\n",
    "print(\"1D : \",create1D(ls2))\n",
    "\n",
    "#UAS kode 2.1\n",
    "def matr(baris,kolom) :\n",
    "    for i in range(baris) :\n",
    "        for j in range(kolom) :\n",
    "            print(\"[%d,%d] \"%(i,j),end=\"\" )\n",
    "            if j == kolom-1 :\n",
    "                print(\"\\n\")\n",
    "\n",
    "matr(2,2)\n",
    "\n",
    "#UAS kode 3\n",
    "def dispMat(mat) :\n",
    "    i=0\n",
    "    stm =\"\"\n",
    "    for baris in mat :\n",
    "        for kolom in baris :\n",
    "            stm+=str(kolom)+\"   \"\n",
    "            \n",
    "            if i == len(baris)-1 :\n",
    "                stm+=\"\\n\"\n",
    "                i=-1\n",
    "            i+=1\n",
    "            \n",
    "    return stm\n",
    "\n",
    "def revMat(mt) :\n",
    "    hs=[]\n",
    "    tmphasil=[]\n",
    "    hasil=[]\n",
    "    bar = len(mt)\n",
    "    klm = len(mt[0])\n",
    "    for baris in mt :\n",
    "        for kolom in baris :\n",
    "            hs.append(kolom)\n",
    "    a=0\n",
    "    for i in range(len(hs)) :\n",
    "        tmphasil.append(hs[i])\n",
    "        if a == bar :\n",
    "            a=-2\n",
    "            hasil.append(tmphasil)\n",
    "            tmphasil = []\n",
    "        a+=2\n",
    "    return hasil\n",
    "        \n",
    "\n",
    "mt=[[1,2,3],[4,5,6]]\n",
    "\n",
    "print(dispMat(mt))\n",
    "print(\"\\n\")\n",
    "print(dispMat(revMat(mt)))"
   ]
  },
  {
   "cell_type": "code",
   "execution_count": 7,
   "id": "6c0d2fc7",
   "metadata": {},
   "outputs": [
    {
     "name": "stdout",
     "output_type": "stream",
     "text": [
      "[[1, 2], [3, 4], [5, 6]]\n"
     ]
    }
   ],
   "source": [
    "def revMat(mt) :\n",
    "    hs=[]\n",
    "    tmphasil=[]\n",
    "    hasil=[]\n",
    "    bar = len(mt)\n",
    "    klm = len(mt[0])\n",
    "    for baris in mt :\n",
    "        for kolom in baris :\n",
    "            hs.append(kolom)\n",
    "    a=0\n",
    "    for i in range(len(hs)) :\n",
    "        tmphasil.append(hs[i])\n",
    "        if a == bar-1 :\n",
    "            a=-1\n",
    "            hasil.append(tmphasil)\n",
    "            tmphasil = []\n",
    "        a+=1\n",
    "    return hasil\n",
    "        \n",
    "\n",
    "mt=[[1,2,3],[4,5,6]]\n",
    "print(revMat(mt))"
   ]
  },
  {
   "cell_type": "code",
   "execution_count": 10,
   "id": "ffb9e2d3",
   "metadata": {},
   "outputs": [
    {
     "name": "stdout",
     "output_type": "stream",
     "text": [
      "2 3\n",
      "4 3\n",
      "4 5\n"
     ]
    }
   ],
   "source": [
    "def penampil2d(matrix):\n",
    "    hs=[]\n",
    "    tmphsl=[]\n",
    "    hasil=[]\n",
    "    bar=len(matrix)\n",
    "    kolm=len(matrix[0])\n",
    "    for baris in matrix:\n",
    "        for kolom in baris:\n",
    "            hs.append(kolom)\n",
    "    a=0\n",
    "    for i in range(len(hs)):\n",
    "        tmphsl.append(hs[i])\n",
    "        if a==bar-1:\n",
    "            a=-1\n",
    "            hasil.append(tmphsl)\n",
    "            tmphsl=[]\n",
    "        a+=1\n",
    "    for i in hasil:\n",
    "        print(*i)\n",
    "    #return hasil\n",
    "\n",
    "y=[[2,3,4],[3,4,5]]\n",
    "(penampil2d(y))"
   ]
  },
  {
   "cell_type": "code",
   "execution_count": 12,
   "id": "801db368",
   "metadata": {},
   "outputs": [
    {
     "name": "stdout",
     "output_type": "stream",
     "text": [
      "[[36, 94, 53], [105, 144, 131], [36, 86, 46]]\n"
     ]
    }
   ],
   "source": [
    "#Perkalian matrix\n",
    "def createMatrix(baris,kolom) :\n",
    "    matrix = []\n",
    "    for i in range(baris) :\n",
    "        listBaris = []\n",
    "        for j in range(kolom) :\n",
    "            listBaris.append(int(input(\"==> Angka [%d,%d] : \"%(i,j))))\n",
    "        matrix.append(listBaris)\n",
    "    return matrix\n",
    "\n",
    "\n",
    "\n",
    "def mulMatrix(matrix1,matrix2) :\n",
    "    baris = len(matrix1[0]) == len(matrix2)\n",
    "\n",
    "    if baris :\n",
    "        hasil = []\n",
    "        for i in range(len(matrix1)) :\n",
    "            tmpHasil = []\n",
    "            for j in range(len(matrix2[0])) :\n",
    "                total = 0\n",
    "                for k in range(len(matrix1[0])) :\n",
    "                    total+= matrix1[i][k]*matrix2[k][j]\n",
    "                tmpHasil.append(total)\n",
    "            hasil.append(tmpHasil)\n",
    "        return hasil\n",
    "    else :\n",
    "        return \"Tidak sama\"\n",
    "\n",
    "\n",
    "\n",
    "mat1 = [[3,1,6],[2,10,3],[4,1,5]]#createMatrix(2,2)\n",
    "mat2 = [[3,4,0],[9,10,11],[3,12,7]]#createMatrix(1,2)\n",
    "\n",
    "#print(mat1)\n",
    "print(mulMatrix(mat1,mat2))\n",
    "\n"
   ]
  },
  {
   "cell_type": "code",
   "execution_count": 87,
   "id": "f9b6e3bc",
   "metadata": {
    "scrolled": true
   },
   "outputs": [
    {
     "name": "stdout",
     "output_type": "stream",
     "text": [
      "masukkan matrix = 3\n",
      "masukkan matrix = 4\n",
      "masukkan matrix = 5\n",
      "masukkan matrix = 3\n",
      "masukkan matrix = 2\n",
      "masukkan matrix = 4\n",
      "masukkan matrix = 5\n",
      "masukkan matrix = 3\n",
      "masukkan matrix = 4\n",
      "[[3, 4, 5], [3, 2, 4], [5, 3, 4]]\n"
     ]
    }
   ],
   "source": [
    "def buatmat(baris,kolom):\n",
    "    temp=[]\n",
    "    for i in range(baris):\n",
    "        temp1=[]\n",
    "        for j in range(kolom):\n",
    "            temp1.append(int(input('masukkan matrix = ')))\n",
    "        temp.append(temp1)\n",
    "    return temp\n",
    "print(buatmat(3,3))"
   ]
  },
  {
   "cell_type": "code",
   "execution_count": 88,
   "id": "bdcaf4a9",
   "metadata": {},
   "outputs": [
    {
     "name": "stdout",
     "output_type": "stream",
     "text": [
      "[[15, 28, 55], [10, 14, 44], [25, 21, 66]]\n"
     ]
    }
   ],
   "source": [
    "def perkalianMAT(mat1,mat2):\n",
    "    temp=[]\n",
    "    for i in range(len(mat1)):\n",
    "        temp1=[]\n",
    "        for j in range(len(mat2[0])):\n",
    "            kali=0\n",
    "            for k in range(len(mat1[0])):\n",
    "                kali+=mat1[i][j]*mat2[k][j]\n",
    "            temp1.append(kali)\n",
    "        temp.append(temp1)\n",
    "    return temp\n",
    "mat1=[[3, 4, 5], [2, 2, 4], [5, 3, 6]]\n",
    "mat2=[[1, 2, 5], [3, 2, 2], [1, 3, 4]]\n",
    "print(perkalianMAT(mat1,mat2))"
   ]
  },
  {
   "cell_type": "code",
   "execution_count": 100,
   "id": "dec41e31",
   "metadata": {},
   "outputs": [
    {
     "name": "stdout",
     "output_type": "stream",
     "text": [
      "3 4 5 \n",
      "2 2 4 \n",
      "5 3 6 \n"
     ]
    }
   ],
   "source": [
    "def pertambahan(mat1,mat2):\n",
    "    if len (mat1)==len(mat2) and len(mat1[0])==len(mat2[0]):\n",
    "        temp=[]\n",
    "        for i in range(len(mat1)):\n",
    "            temp1=[]\n",
    "            for j in range(len(mat1[0])):\n",
    "                temp1.append(mat1[i][j]+mat2[i][j])\n",
    "            temp.append(temp1)\n",
    "        return temp\n",
    "    else:\n",
    "        return 'ukuran tidak sama'\n",
    "    \n",
    "def display(matrix):\n",
    "    \n",
    "    for i in range(len(matrix)):\n",
    "        temp=''\n",
    "        for j in range(len(matrix[0])):\n",
    "            temp=temp+str(matrix[i][j])+' '\n",
    "        print(temp)\n",
    "    \n",
    "    \n",
    "    \n",
    "    \n",
    "mat1=[[3, 4, 5], [2, 2, 4], [5, 3, 6]]\n",
    "mat2=[[1, 2, 5], [3, 2, 2], [1, 3, 4]]\n",
    "mat3=pertambahan(mat1,mat2)\n",
    "display(mat1)"
   ]
  },
  {
   "cell_type": "code",
   "execution_count": 13,
   "id": "9def8941",
   "metadata": {},
   "outputs": [
    {
     "name": "stdout",
     "output_type": "stream",
     "text": [
      "5 0\n",
      "26 12\n"
     ]
    }
   ],
   "source": [
    "mat1 = [\n",
    "    [5, 0],\n",
    "    [2, 6],\n",
    "]\n",
    "\n",
    "mat2 = [\n",
    "    [1, 0],\n",
    "    [4, 2],\n",
    "]\n",
    "a=mulMatrix(mat1,mat2)\n",
    "for i in a:\n",
    "    print(*i)"
   ]
  }
 ],
 "metadata": {
  "kernelspec": {
   "display_name": "Python 3 (ipykernel)",
   "language": "python",
   "name": "python3"
  },
  "language_info": {
   "codemirror_mode": {
    "name": "ipython",
    "version": 3
   },
   "file_extension": ".py",
   "mimetype": "text/x-python",
   "name": "python",
   "nbconvert_exporter": "python",
   "pygments_lexer": "ipython3",
   "version": "3.9.12"
  }
 },
 "nbformat": 4,
 "nbformat_minor": 5
}
