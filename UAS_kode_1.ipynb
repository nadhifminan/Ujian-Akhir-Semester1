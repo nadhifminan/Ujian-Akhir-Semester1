{
  "nbformat": 4,
  "nbformat_minor": 0,
  "metadata": {
    "colab": {
      "provenance": []
    },
    "kernelspec": {
      "name": "python3",
      "display_name": "Python 3"
    },
    "language_info": {
      "name": "python"
    }
  },
  "cells": [
    {
      "cell_type": "code",
      "source": [
        "def histogram(kalimat):\n",
        "    kalimatbaru=kalimat.lower()\n",
        "    dic={}\n",
        "    for i in kalimatbaru:\n",
        "        if i not in dic:\n",
        "            dic[i]=0\n",
        "        else:\n",
        "            dic[i]+=1\n",
        "    return dic\n",
        "print(histogram('Algoritma pemrograman'))"
      ],
      "metadata": {
        "colab": {
          "base_uri": "https://localhost:8080/"
        },
        "id": "cUlft3c3RGW7",
        "outputId": "d46e24dc-31ec-4ccd-f850-b16aa733354f"
      },
      "execution_count": 4,
      "outputs": [
        {
          "output_type": "stream",
          "name": "stdout",
          "text": [
            "{'a': 3, 'l': 0, 'g': 1, 'o': 1, 'r': 2, 'i': 0, 't': 0, 'm': 2, ' ': 0, 'p': 0, 'e': 0, 'n': 0}\n"
          ]
        }
      ]
    },
    {
      "cell_type": "code",
      "source": [
        "#uas kode 2\n",
        "def penjumlahan(lis):\n",
        "    if len(lis)==1:\n",
        "        return lis[0]\n",
        "    else:\n",
        "        return lis[0]+penjumlahan(lis[1:])\n",
        "a=[1,2,3,4]\n",
        "print(penjumlahan(a))"
      ],
      "metadata": {
        "colab": {
          "base_uri": "https://localhost:8080/"
        },
        "id": "FcLxMSZ6RIdg",
        "outputId": "c8047deb-87aa-4722-cea6-e231f2014a6f"
      },
      "execution_count": 5,
      "outputs": [
        {
          "output_type": "stream",
          "name": "stdout",
          "text": [
            "10\n"
          ]
        }
      ]
    }
  ]
}